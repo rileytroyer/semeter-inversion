{
 "cells": [
  {
   "cell_type": "markdown",
   "id": "5a095a64",
   "metadata": {},
   "source": [
    "# Code to demonstrate electon density -> energy inversion as per Semeter & Kamalabadi 2005\n",
    "\n",
    "written by Riley Troyer Fall 2021"
   ]
  },
  {
   "cell_type": "code",
   "execution_count": 23,
   "id": "147ba8a8",
   "metadata": {},
   "outputs": [
    {
     "data": {
      "text/plain": [
       "{'divide': 'ignore', 'over': 'warn', 'under': 'ignore', 'invalid': 'ignore'}"
      ]
     },
     "execution_count": 23,
     "metadata": {},
     "output_type": "execute_result"
    }
   ],
   "source": [
    "# Libraries\n",
    "from datetime import datetime as dt\n",
    "import gc\n",
    "import h5py\n",
    "from matplotlib import pyplot as plt\n",
    "from matplotlib import colors\n",
    "import msise00\n",
    "import numpy as np\n",
    "import os\n",
    "import pickle\n",
    "import scipy.stats\n",
    "from scipy.interpolate import interp1d\n",
    "from scipy.signal import savgol_filter\n",
    "from scipy.signal import savgol_coeffs\n",
    "from scipy.integrate import trapezoid\n",
    "\n",
    "# Disable divide by zero numpy warnings\n",
    "np.seterr(divide='ignore')\n",
    "np.seterr(invalid='ignore')"
   ]
  },
  {
   "cell_type": "markdown",
   "id": "18e8b95a",
   "metadata": {},
   "source": [
    "## The first thing I do is read in a config file with various parameters that I could change from run to run."
   ]
  },
  {
   "cell_type": "code",
   "execution_count": 24,
   "id": "7ee4b571",
   "metadata": {},
   "outputs": [],
   "source": [
    "# Read in config file with dictionary of specified inputs\n",
    "import config_example as config\n",
    "config_data = config.run_info['config_info']\n",
    "\n",
    "# Path to pfisr data directory\n",
    "pfisr_data_dir = config_data['isr_data_dir']\n",
    "\n",
    "# Get location of PFISR\n",
    "pfrr_lat = config_data['isr_lat']\n",
    "pfrr_lon = config_data['isr_lon']\n",
    "\n",
    "# Define test flux in m^-2 s^-1\n",
    "F = config_data['test_flux']\n",
    "\n",
    "# Don't use PFISR data below this altitude in km\n",
    "pfisr_min_alt = config_data['isr_min_alt']\n",
    "\n",
    "# Get sensitivity limit of PFISR\n",
    "pfisr_sensitivity = config_data['isr_sensitivity']\n",
    "\n",
    "# Altitude in meters to approximate infinity when calculating\n",
    "#...mass distance\n",
    "max_msis_alt = config_data['max_msis_alt']\n",
    "\n",
    "# Maximum number of iterations to run maximum entropy process on\n",
    "max_iterations = config_data['max_iterations']\n",
    "\n",
    "# Reduced chi square to aim for\n",
    "convergence = config_data['convergence']\n",
    "\n",
    "# Define arrays for altitude and energy bins\n",
    "\n",
    "# Altitude in meters\n",
    "#...number of points should be around the same as pfisr data\n",
    "altitude_bins = config_data['altitude_bins']\n",
    "\n",
    "# Energies in eV\n",
    "#...should probably be less than altitude bins to avoid overfitting\n",
    "energy_bins = config_data['energy_bins']\n",
    "\n",
    "# Get files to run code for\n",
    "pfisr_files = config.run_info['run_files']"
   ]
  },
  {
   "cell_type": "code",
   "execution_count": 27,
   "id": "73d55992",
   "metadata": {},
   "outputs": [],
   "source": [
    "# For example code just use one file\n",
    "pfisr_filename = pfisr_files[12]"
   ]
  },
  {
   "cell_type": "code",
   "execution_count": 28,
   "id": "6df028fa",
   "metadata": {},
   "outputs": [
    {
     "data": {
      "text/plain": [
       "'20161013.003_bc_nenotr_1min.h5'"
      ]
     },
     "execution_count": 28,
     "metadata": {},
     "output_type": "execute_result"
    }
   ],
   "source": [
    "pfisr_filename"
   ]
  },
  {
   "cell_type": "markdown",
   "id": "04036c3d",
   "metadata": {},
   "source": [
    "## Next I read in a file containing information about the $\\Lambda$ function as per Semeter & Kamalabadi 2005. More on this later. As well as the file containing the ISR data."
   ]
  },
  {
   "cell_type": "code",
   "execution_count": 29,
   "id": "ce81bcdc",
   "metadata": {},
   "outputs": [],
   "source": [
    "def get_isr_data(pfisr_filename, pfisr_data_dir):\n",
    "    \"\"\"Function to get relevant data from PFISR datafile.\n",
    "    INPUT\n",
    "    pfisr_filename\n",
    "        type: str\n",
    "        about: data file name, should be .h5 file\n",
    "    pfisr_data_dir\n",
    "        type: str\n",
    "        about: directory where isr data is stored\n",
    "    OUTPUT\n",
    "    utc_time\n",
    "        type: array of datetimes\n",
    "        about: time stamp for each measurement\n",
    "    pfisr_altitude\n",
    "        type: array of float\n",
    "        about: altitude stamp for each measurement in meters\n",
    "    e_density\n",
    "        type: array of float\n",
    "        about: electron number density in m^-3\n",
    "    de_density\n",
    "        type: array of float\n",
    "        about: error in number density\n",
    "    \"\"\"\n",
    "    \n",
    "    # Read in the h5 file\n",
    "    pfisr_file = h5py.File(pfisr_data_dir + pfisr_filename, 'r')\n",
    "\n",
    "    # Get the different beams and select specified angle\n",
    "    beam_angle = 90\n",
    "    beams = np.array(pfisr_file['BeamCodes'])\n",
    "\n",
    "    # Get the beam with a 90 degree elevation angle\n",
    "    indexes = np.linspace(0, len(beams)-1, len(beams))\n",
    "    beam_num = int(indexes[np.abs(beams[:,2] - beam_angle) == 0][0])\n",
    "\n",
    "    # Get time and convert to utc datetime\n",
    "    unix_time = np.array(pfisr_file['Time']['UnixTime'])[:,0]\n",
    "    utc_time = np.array([dt.utcfromtimestamp(d) for d in unix_time])\n",
    "\n",
    "    # Get the altitude array\n",
    "    pfisr_altitude = np.array(pfisr_file['NeFromPower']\n",
    "                              ['Altitude'])[beam_num, :]\n",
    "\n",
    "    # Get the uncorrected number density array\n",
    "    e_density = np.array(pfisr_file['NeFromPower']\n",
    "                         ['Ne_NoTr'])[:, beam_num, :]\n",
    "\n",
    "    # Take the transpose\n",
    "    e_density = np.transpose(e_density)\n",
    "    \n",
    "    # Find the noise floor by averaging between 55km and 60km\n",
    "    #...assume this should be zero\n",
    "    noise_floor = np.mean(e_density[(pfisr_altitude > 55000)\n",
    "                                    & (pfisr_altitude < 60000), :],\n",
    "                          axis=0)\n",
    "    \n",
    "    # Loop through each column and subtract off noise floor\n",
    "    for j in range(e_density.shape[1]):\n",
    "        e_density[:, j] = e_density[:, j] - noise_floor[j]\n",
    "    \n",
    "    # Get error values\n",
    "    de_density = np.array(pfisr_file['NeFromPower']\n",
    "                          ['errNe_NoTr'])[:, beam_num, :]\n",
    "    de_density = np.transpose(de_density)\n",
    "\n",
    "    # Close file\n",
    "    pfisr_file.close()\n",
    "    \n",
    "    return utc_time, pfisr_altitude, e_density, de_density"
   ]
  },
  {
   "cell_type": "code",
   "execution_count": 30,
   "id": "6939c6e4",
   "metadata": {},
   "outputs": [],
   "source": [
    "# Read in file with energy dissipation function\n",
    "lambda_filename = 'semeter_kamalabadi_lambda_function.txt'\n",
    "lambda_data = np.loadtxt(lambda_filename, skiprows=5)\n",
    "\n",
    "# Create an interpolated function from this\n",
    "#...values outside set to 0\n",
    "lambda_interp = interp1d(lambda_data[:, 0], lambda_data[:, 1],\n",
    "                         bounds_error=False, fill_value=0)"
   ]
  },
  {
   "cell_type": "code",
   "execution_count": 31,
   "id": "201c09a8",
   "metadata": {},
   "outputs": [],
   "source": [
    "# Read in the pfisr data\n",
    "(utc_time, pfisr_altitude,\n",
    " e_density, de_density) = get_isr_data(pfisr_filename, pfisr_data_dir)"
   ]
  },
  {
   "cell_type": "markdown",
   "id": "3b71b3b3",
   "metadata": {},
   "source": [
    "## For example purposes I'll only consider one time slice of the data. These calculations require information about the atmospheric density at the given time and location. To determine this I will run the MSISE00 model."
   ]
  },
  {
   "cell_type": "code",
   "execution_count": 32,
   "id": "9f99d64a",
   "metadata": {},
   "outputs": [],
   "source": [
    "def get_msis_density(run_time, altitudes_z, max_alt=1001e3,\n",
    "                     glat=65.117, glon=212.540):\n",
    "    \"\"\"Function to get MSIS calculated atmospheric densities.\n",
    "    DEPENDENCIES\n",
    "        msise00, numpy, scipy.interpolate.interp1d\n",
    "    INPUT\n",
    "    run_time\n",
    "        type: datetime\n",
    "        about: time to run msis code for\n",
    "    altitudes\n",
    "        type: array of floats\n",
    "        about: altitudes in meters to run msis code for\n",
    "    max_alt = 1001e3\n",
    "        type: float\n",
    "        about: maximum altitude in meters to run msis for. \n",
    "               Function creates a high altitude log spaced array\n",
    "               between the max of altitudes and the max_alt value.\n",
    "               This is primarily for approximating an indefinite integral.\n",
    "    OUTPUT\n",
    "    total_msis_alt\n",
    "        type: array of floats\n",
    "        about: altitudes values in meters including original array and\n",
    "               high altitude array\n",
    "    msis_interp_density\n",
    "        type: scipy.interplate function\n",
    "        about: 1d interpolation of msis density spanning entire altitude\n",
    "               range.\n",
    "    \"\"\"\n",
    "    \n",
    "    # Run msis for lower altitudes\n",
    "    msis_run_low = msise00.run(time=run_time, altkm=altitudes_z/1000,\n",
    "                               glat=pfrr_lat, glon=pfrr_lon)\n",
    "\n",
    "    # Define a higher altitude array\n",
    "    msis_alt_high = np.logspace(np.log10(max(altitudes_z)+1),\n",
    "                                np.log10(max_alt), 20)\n",
    "    \n",
    "    # Run msis for these higher altitudes\n",
    "    msis_run_high = msise00.run(time=run_time, altkm=msis_alt_high/1000,\n",
    "                               glat=pfrr_lat, glon=pfrr_lon)\n",
    "\n",
    "    # Get total density data\n",
    "    msis_density_low = msis_run_low['Total'].data[0, :, 0, 0]\n",
    "    msis_density_high = msis_run_high['Total'].data[0, :, 0, 0]\n",
    "\n",
    "    # Combine altitude and densities from low and high altitudes\n",
    "    total_msis_alt = np.concatenate((altitudes_z, msis_alt_high))\n",
    "    total_msis_density = np.concatenate((msis_density_low,\n",
    "                                         msis_density_high))\n",
    "\n",
    "    # Create a scipy interpolation function to define density v. altitude\n",
    "    msis_interp_density = interp1d(total_msis_alt, total_msis_density)\n",
    "    \n",
    "    return total_msis_alt, msis_interp_density"
   ]
  },
  {
   "cell_type": "code",
   "execution_count": 37,
   "id": "154681eb",
   "metadata": {},
   "outputs": [
    {
     "name": "stdout",
     "output_type": "stream",
     "text": [
      "2016-10-13 13:00:56\n"
     ]
    }
   ],
   "source": [
    "# Time slice to run inversion for\n",
    "slice_n = 151\n",
    "print(utc_time[slice_n])"
   ]
  },
  {
   "cell_type": "code",
   "execution_count": 38,
   "id": "a0288e45",
   "metadata": {},
   "outputs": [],
   "source": [
    "# Time associated with slice\n",
    "run_time = utc_time[slice_n]\n",
    "\n",
    "# Get MSIS calculated densities\n",
    "(total_msis_alt,\n",
    " msis_interp_density) = get_msis_density(run_time, altitude_bins,\n",
    "                                         max_alt=max_msis_alt,\n",
    "                                         glat=pfrr_lat, glon=pfrr_lon)\n",
    "\n",
    "# Get density for altitude bins\n",
    "total_msis_density = msis_interp_density(total_msis_alt)\n",
    "density_rho = msis_interp_density(altitude_bins)"
   ]
  },
  {
   "cell_type": "markdown",
   "id": "1d24ccb3",
   "metadata": {},
   "source": [
    "## Calculate the mass distance of a particle travelling through the atmosphere. This is defined as \n",
    "## $s(z) = \\frac{1}{\\cos(I)}\\int_{z_0}^\\infty \\, \\rho(z)\\, dz$\n",
    "### where $I=0$ is the incident angle of the particles and $\\rho(z)$ is the MSISE00 calculated mass density. \n",
    "### To approximate $\\infty$ I integrate out to 1000 km. I do the integration using the trapezoid method, which seems to be plenty good enough."
   ]
  },
  {
   "cell_type": "code",
   "execution_count": 39,
   "id": "861f364e",
   "metadata": {},
   "outputs": [],
   "source": [
    "def mass_distance(z_i, I=0):\n",
    "    \"\"\"Function to mass distance of particle traveling some distance\n",
    "    into the atmosphere. Denoted s in the derivations.\n",
    "    Using trapezoid rule for this, which seems to be good enough\n",
    "    INPUT\n",
    "    z\n",
    "        type: int\n",
    "        about: index of altitude that particle reached to\n",
    "    I=0\n",
    "        type: float\n",
    "        about: angle of magnetic inclination at measuring site in radians\n",
    "    OUTPUT\n",
    "    s\n",
    "        type: float\n",
    "        about: mass distance in kg m^-2\n",
    "    \"\"\"\n",
    "    \n",
    "    # Calculate mass distance traveled \n",
    "    s = (1/np.cos(I)) * trapezoid(total_msis_density[z_i:],\n",
    "                                  total_msis_alt[z_i:])\n",
    "    \n",
    "    return s"
   ]
  },
  {
   "cell_type": "code",
   "execution_count": 40,
   "id": "9f575b2a",
   "metadata": {},
   "outputs": [],
   "source": [
    "# Calculate mass distance (s) for each altitude by integrating\n",
    "#...out to 1000 km (~infinity)\n",
    "s = np.array([mass_distance(z) for z in range(len(altitude_bins))])"
   ]
  },
  {
   "cell_type": "markdown",
   "id": "ee3c315c",
   "metadata": {},
   "source": [
    "## The mass distance is needed to calculate the ion production rate. The ion production rate is important since \n",
    "## $q(z) = A(z, K) \\phi(K)$\n",
    "### where $z$ is altitude and $K$ is energy. So if we know $q(z)$ we can invert A and get the number flux $\\phi(K)$ in the specified energy bins.\n",
    "\n",
    "## As derived in the paper\n",
    "## $q(z, K) = \\frac{\\Lambda(s/R) \\rho(z) K F}{35.5 R(K)} $\n",
    "### where $\\Lambda$ is a discrete function defined in a table in the paper, $F$ is a test number flux, and $R$ is a range-energy function."
   ]
  },
  {
   "cell_type": "code",
   "execution_count": 41,
   "id": "23f7ac9c",
   "metadata": {},
   "outputs": [],
   "source": [
    "def barrett_hays_range_energy_func(K):\n",
    "    \"\"\"Function to define mass range of electron in air for a specific\n",
    "    energy K in eV. From Barett & Hays 1976\n",
    "    INPUT\n",
    "    K\n",
    "        type: float\n",
    "        about: energy of electron in eV\n",
    "    OUTPUT\n",
    "    R\n",
    "        type: float\n",
    "        about: mass range of particle in kg m^-2 \n",
    "    \"\"\"\n",
    "    # Convert energy to keV to match formula\n",
    "    K = K/1000\n",
    "    \n",
    "    # Range function\n",
    "    R = 4.3e-7 + 5.36e-6 * K**(1.67) - 0.38e-8 * K**(-0.7)\n",
    "    \n",
    "    # Convert R from g/cm^2 to kg/m^2\n",
    "    R = R * 10\n",
    "    \n",
    "    return R"
   ]
  },
  {
   "cell_type": "code",
   "execution_count": 42,
   "id": "e98ea762",
   "metadata": {},
   "outputs": [],
   "source": [
    "# Calculate ion production rate for each energy and store\n",
    "#...in dictionary\n",
    "ion_prod_rate = {}\n",
    "\n",
    "for i, energy in enumerate(energy_bins):\n",
    "\n",
    "    # Calculate range-energy value\n",
    "    R = barrett_hays_range_energy_func(energy)\n",
    "\n",
    "    # Get the (s/R)(z) for the energy\n",
    "    s_R = s/R\n",
    "\n",
    "    # Use s/R to get Lambda function values\n",
    "    lambda_vals = lambda_interp(s_R)\n",
    "\n",
    "    # Use all of this to calculate ion production rate as function\n",
    "    #...of alt\n",
    "    q = (lambda_vals * density_rho * energy * F) / (35.5 * R)\n",
    "\n",
    "    # Write to dictionary\n",
    "    ion_prod_rate[energy] = q"
   ]
  },
  {
   "cell_type": "markdown",
   "id": "e9c4dfde",
   "metadata": {},
   "source": [
    "## Calculate the matrix $A$. Each column of this corresponds to an energy bin and is equal to the ion production rate multiplied by the energy bin width and divided by the test flux."
   ]
  },
  {
   "cell_type": "code",
   "execution_count": 43,
   "id": "1b1680dd",
   "metadata": {},
   "outputs": [],
   "source": [
    "# Construct the A matrix\n",
    "matrix_A = np.zeros([len(altitude_bins), len(energy_bins)])\n",
    "\n",
    "# Loop through each energy value\n",
    "for j in range(len(energy_bins)):\n",
    "\n",
    "    # Get the size of the energy bin\n",
    "    #...first bin is from zero to energy\n",
    "    if j == 0:\n",
    "        delta_E = energy_bins[j] - 0\n",
    "    else:\n",
    "        delta_E = energy_bins[j] - energy_bins[j-1]\n",
    "\n",
    "    # Set column of matrix\n",
    "    matrix_A[:, j] = ion_prod_rate[energy_bins[j]] * (delta_E/F)"
   ]
  },
  {
   "cell_type": "markdown",
   "id": "eae4c42f",
   "metadata": {},
   "source": [
    "## To guide the inversion process we will use the ion production rate as seen by the ISR. This is defined as\n",
    "## $q(z) = \\alpha n(z)^2 + \\frac{dn}{dt}$\n",
    "### where $n(z)$ is the ISR measured electron density. We assume $\\frac{dn}{dt} = 0$. We believe this is a good assumption during pulsating aurora, where the electron density doesn't change much.\n",
    "### $\\alpha$ is the recombination coefficient. At some point we may include ISR temperatures to calculate this, but for the moment we just use\n",
    "### $\\alpha(z) = 2.5 \\times 10^{-12}\\, e^{-z/51.2}$ "
   ]
  },
  {
   "cell_type": "code",
   "execution_count": 44,
   "id": "09aedfba",
   "metadata": {},
   "outputs": [],
   "source": [
    "def recombination_coeff(z):\n",
    "    \"\"\"Function defining recombination coefficient\n",
    "    INPUT\n",
    "    z\n",
    "        type:float\n",
    "        about: altitude in kilometers\n",
    "    OUTPUT\n",
    "    alpha\n",
    "        type: float\n",
    "        about: recombination coefficient in m^3/s\n",
    "    \"\"\"\n",
    "    \n",
    "    alpha = 2.5e-12 * np.exp(-z/51.2)\n",
    "    \n",
    "    return alpha\n",
    "\n",
    "def isr_ion_production_rate(slice_n):\n",
    "    \"\"\"Function to estimate the ion production rate from isr measurements\n",
    "    INPUT\n",
    "    slice_n\n",
    "        type: integer\n",
    "        about: data slice of isr data to take\n",
    "    OUTPUT\n",
    "    q_estimate\n",
    "        type: array of float\n",
    "        about: estimated ion production rate m^-2 s^-1\n",
    "    dq_estimate\n",
    "        type: array of float\n",
    "        about: error in ion production rate\n",
    "    alphas\n",
    "        type: array of float\n",
    "        about: recombination coefficients\n",
    "    \"\"\"\n",
    "    \n",
    "    # Read in density and errors in those measurements for specific time\n",
    "    e_density_slice = e_density[:, slice_n]\n",
    "    de_density_slice = de_density[:, slice_n]\n",
    "\n",
    "    # Make an interpolation model of this data with respect to altitude\n",
    "    #...but only do this for altitudes > defined minimum value,\n",
    "    #...below this data can be weird\n",
    "    pfisr_density_interp = interp1d(pfisr_altitude, e_density_slice)\n",
    "\n",
    "    # Same interpolation except for error in density\n",
    "    pfisr_error_interp = interp1d(pfisr_altitude, de_density_slice)\n",
    "\n",
    "    # Calculate all recombination coeffcients\n",
    "    alphas = np.array([recombination_coeff(z/1000) for z \n",
    "                       in altitude_bins])\n",
    "\n",
    "#     # Calculate all recombination coeffcients\n",
    "#     alphas = np.array([better_recombination_coeff(z/1000) for z \n",
    "#                        in altitude_bins])\n",
    "\n",
    "    # Multiply by pfisr density to get an estimate of ion production rate\n",
    "    #...keep sign in calculation, so don't bias high\n",
    "    pfisr_signs = np.sign(pfisr_density_interp(altitude_bins))\n",
    "    q_estimate = (alphas \n",
    "                  * pfisr_density_interp(altitude_bins)**2)\n",
    "                        \n",
    "    # Get error dq = 2*alpha*n*dn\n",
    "    dq_estimate = (2 * alphas * pfisr_density_interp(altitude_bins)\n",
    "                   * pfisr_error_interp(altitude_bins))\n",
    "    dq_estimate = abs(dq_estimate)\n",
    "\n",
    "    \n",
    "    return q_estimate, dq_estimate, alphas"
   ]
  },
  {
   "cell_type": "code",
   "execution_count": 46,
   "id": "d5aa95c7",
   "metadata": {},
   "outputs": [],
   "source": [
    "# Read in file with effective recombination coefficient values\n",
    "alpha_filename = 'effective-recombination-coefficient.txt'\n",
    "alpha_data = np.loadtxt(alpha_filename, skiprows=6)\n",
    "\n",
    "# Get altitude and coeff from data\n",
    "alpha_alt = alpha_data[:, 0]\n",
    "alpha_coeff = alpha_data[:, 1]*1e-6\n",
    "\n",
    "# Append formula value at 144 km\n",
    "alpha_alt = np.append(alpha_alt, 144)\n",
    "alpha_coeff = np.append(alpha_coeff, recombination_coeff(144))\n",
    "\n",
    "# Create an interpolated function from this\n",
    "#...values outside set to 0\n",
    "alpha_interp = interp1d(alpha_alt, alpha_coeff,\n",
    "                         bounds_error=False, fill_value=0)\n",
    "\n",
    "def better_recombination_coeff(z):\n",
    "    \"\"\"Function defining a more accurate recombination coefficient\n",
    "    INPUT\n",
    "    z\n",
    "        type:float\n",
    "        about: altitude in kilometers\n",
    "    OUTPUT\n",
    "    alpha\n",
    "        type: float\n",
    "        about: recombination coefficient in m^3/s\n",
    "    \"\"\"\n",
    "    \n",
    "    # Above 90 km use formula\n",
    "    if z > 144:\n",
    "        alpha = recombination_coeff(z)\n",
    "        \n",
    "    else:\n",
    "        alpha = alpha_interp(z)\n",
    "        \n",
    "    return alpha"
   ]
  },
  {
   "cell_type": "code",
   "execution_count": 47,
   "id": "c3a33764",
   "metadata": {},
   "outputs": [],
   "source": [
    "# Get estimated ion production rate and error from isr measurements\n",
    "q_estimate, dq_estimate, alphas = isr_ion_production_rate(slice_n)"
   ]
  },
  {
   "cell_type": "code",
   "execution_count": 51,
   "id": "5941cbc2",
   "metadata": {},
   "outputs": [
    {
     "data": {
      "image/png": "[encoded data removed]",
      "text/plain": [
       "<Figure size 432x288 with 1 Axes>"
      ]
     },
     "metadata": {
      "needs_background": "light"
     },
     "output_type": "display_data"
    }
   ],
   "source": [
    "plt.plot(q_estimate, altitude_bins/1000)\n",
    "plt.ylim(70, 140)\n",
    "plt.xlim(1e7, 3e10)\n",
    "plt.xscale('log')"
   ]
  },
  {
   "cell_type": "code",
   "execution_count": 53,
   "id": "435adfae",
   "metadata": {},
   "outputs": [
    {
     "data": {
      "text/plain": [
       "100"
      ]
     },
     "execution_count": 53,
     "metadata": {},
     "output_type": "execute_result"
    }
   ],
   "source": [
    "len(altitude_bins/1000)"
   ]
  },
  {
   "cell_type": "markdown",
   "id": "38c8865d",
   "metadata": {},
   "source": [
    "## Before performing the maximum entropy iterations we need to define an initial number flux"
   ]
  },
  {
   "cell_type": "code",
   "execution_count": 423,
   "id": "a797731b",
   "metadata": {},
   "outputs": [],
   "source": [
    "def estimate_initial_number_flux(energy_bins, matrix_A):\n",
    "    \"\"\"Function to estimate the intial number flux for each energy bin\n",
    "    INPUT\n",
    "    energy_bins\n",
    "        type: array of float\n",
    "        about: energy values defining energy bins\n",
    "    matrix_A\n",
    "        type: array of float\n",
    "        about: inversion matrix\n",
    "    OUTPUT\n",
    "    initial_num_flux\n",
    "        type: array of float\n",
    "        about: estimated number flux in m^-2 s^-1 for each energy bin\n",
    "    \"\"\"\n",
    "    \n",
    "    # Make an initial guess of the number flux\n",
    "    initial_num_flux = np.ones(len(energy_bins))*(1e12/len(energy_bins))\n",
    "\n",
    "    # Divide by energy bin widths\n",
    "    bin_widths = energy_bins - np.roll(energy_bins, shift=1)\n",
    "\n",
    "    # Fix first value\n",
    "    bin_widths[0] = energy_bins[0] - 0\n",
    "\n",
    "    # Set initial guess\n",
    "    initial_num_flux = initial_num_flux/bin_widths\n",
    "\n",
    "    # If full column of A matrix is zero set initial flux to zero\n",
    "    for j in range(len(energy_bins)):\n",
    "\n",
    "        if np.sum(matrix_A[:, j]) == 0:\n",
    "            initial_num_flux[j] = 0\n",
    "            \n",
    "    return initial_num_flux"
   ]
  },
  {
   "cell_type": "code",
   "execution_count": 424,
   "id": "3ef585d4",
   "metadata": {},
   "outputs": [],
   "source": [
    "# Make an initial guess of the number flux\n",
    "initial_num_flux = estimate_initial_number_flux(energy_bins, matrix_A)"
   ]
  },
  {
   "cell_type": "markdown",
   "id": "b4013177",
   "metadata": {},
   "source": [
    "## Perform the maximum entropy iterations to get an estimated number flux for each energy bin. I run the iterations until $\\chi^2_\\text{reduced} < 1.5$ between the $q(z)_\\text{ISR} = \\alpha(z) n(z)^2$ and $q(z)_\\text{A} = A(z, K) \\phi(K)$ or 1000 iterations are reached."
   ]
  },
  {
   "cell_type": "code",
   "execution_count": 425,
   "id": "dbc3b41b",
   "metadata": {},
   "outputs": [],
   "source": [
    "def maximum_entropy_iteration(initial_num_flux, altitude_bins,\n",
    "                              energy_bins,matrix_A,\n",
    "                              q_estimate, dq_estimate):\n",
    "    \"\"\"Function to peform the maximum entropy iterative process to\n",
    "    approximate inversion of matrix A. \n",
    "    Process is outlined in Semeter & Kamalabadi 2005.\n",
    "    INPUT\n",
    "    initial_num_flux\n",
    "        type: array of float\n",
    "        about: initial guess of number flux for each energy bin \n",
    "               in m^-2 s^-1\n",
    "    altitude_bins\n",
    "        type: array of float\n",
    "        about: altitude values in meters defining altitude bins\n",
    "    energy_bins\n",
    "        type: array of float\n",
    "        about: energy values in eV defining energy bins\n",
    "    matrix_A\n",
    "        type: array of float\n",
    "        about: matrix that iteration is trying to invert\n",
    "    q_estimate\n",
    "        type: array of float\n",
    "        about: estimated ion production rate from ISR m^-2 s^-1\n",
    "    dq_estimate\n",
    "        type: array of float\n",
    "        about: error in ion production rate of ISR\n",
    "    OUTPUT\n",
    "    new_num_flux\n",
    "        type: array of float\n",
    "        about: estimated number flux for energy bins in m^-2 s^-1\n",
    "    reduced_chi_square\n",
    "        type: float\n",
    "        about: error in modeled fit\n",
    "    good_alt_index\n",
    "        type: int\n",
    "        about: lower than this won't be good data\n",
    "    \"\"\"\n",
    "    \n",
    "    # Set previous value to initial at start\n",
    "    old_num_flux = initial_num_flux\n",
    "    new_num_flux = np.zeros(len(initial_num_flux))  \n",
    "    \n",
    "    # Create array to store all minimum j values\n",
    "    min_js = np.zeros(len(altitude_bins), dtype=int)\n",
    "\n",
    "    # Find all nonzero indices of A matrix\n",
    "    nonzero_args = np.argwhere(matrix_A > 0)\n",
    "\n",
    "    for i in range(len(min_js)):\n",
    "\n",
    "        non_zeros = nonzero_args[nonzero_args[:, 0] == i]\n",
    "\n",
    "        # If there are no non zero values in row, then set to \n",
    "        #...first instance\n",
    "        if len(non_zeros) == 0:\n",
    "            min_js[i] = 0\n",
    "\n",
    "        # Otherwise find the minimum j\n",
    "        else:\n",
    "            min_js[i] = min(non_zeros[:, 1])\n",
    "\n",
    "    # Initialize values\n",
    "    old_chi_square = 1e3\n",
    "    chi_square = 0\n",
    "    old_chi2_diff = 1e9\n",
    "    converged = True\n",
    "    count = 0\n",
    "\n",
    "    # Run interations until convergence or count is met\n",
    "    while (old_chi2_diff > convergence):\n",
    "\n",
    "        # Check count\n",
    "        if count > max_iterations:\n",
    "            print('Slice: {slice_n}. '\n",
    "                  'Unable to converge. '\n",
    "                  'Max iterations reached with chi2 = {chi2}'\n",
    "                  .format(slice_n=slice_n,\n",
    "                          chi2=round(chi_square, 2)))\n",
    "            break\n",
    "\n",
    "        # Construct the t vector\n",
    "        t = 1/np.dot(matrix_A[:, min_js], old_num_flux[min_js])\n",
    "\n",
    "        # Adjust for infinite values in regions without a nonzero j\n",
    "        t[t == np.inf] = 0        \n",
    "\n",
    "        for j in range(len(energy_bins)):\n",
    "\n",
    "            # Construct c vector\n",
    "            frac = np.inner(matrix_A, old_num_flux)/q_estimate\n",
    "            c = 20 * (1 - frac) * t\n",
    "\n",
    "            # Account for nan and infinite values\n",
    "            #...this is why warning is raised\n",
    "            c[np.isnan(c)] = 0\n",
    "            c[c == -np.inf] = 0\n",
    "            c[c == np.inf] = 0\n",
    "\n",
    "            # Define w constant\n",
    "            w = np.ones(len(altitude_bins))/len(altitude_bins)\n",
    "\n",
    "            # Summation of matrix elements\n",
    "            i_sum = np.sum(w*c*matrix_A[:, j])\n",
    "\n",
    "            # New guess\n",
    "            new_num_flux[j] = old_num_flux[j]/(1-old_num_flux[j]*i_sum)\n",
    "\n",
    "        # Check chi squared, but only on altitudes that A is defined for\n",
    "        diff=q_estimate-np.dot(matrix_A, new_num_flux)\n",
    "        chi_square_array = diff**2/dq_estimate**2\n",
    "\n",
    "        # Set undefined values to zero\n",
    "        chi_square_array[np.isnan(chi_square_array)] = 0\n",
    "        chi_square_array[chi_square_array == np.inf] = 0\n",
    "        chi_square_array[chi_square_array == -np.inf] = 0\n",
    "        \n",
    "        # Get the chi squared value\n",
    "        chi_square = np.sum(chi_square_array)\n",
    "        \n",
    "        # Do a convergence test, make sure it isn't blowing up\n",
    "        if (old_chi2_diff \n",
    "            < abs(old_chi_square - chi_square)) & (count > 1000):\n",
    "            print('Slice: {slice_n}. '\n",
    "                  'Not converging. Stopping. '\n",
    "                  'chi2 = {chi2}'\n",
    "                  .format(slice_n=slice_n,\n",
    "                          chi2=round(chi_square, 2)))\n",
    "            converged = False\n",
    "            break \n",
    "\n",
    "        # Set old values to new\n",
    "        old_num_flux = np.copy(new_num_flux)\n",
    "        old_chi2_diff = abs(old_chi_square - chi_square)\n",
    "        old_chi_square = chi_square\n",
    "\n",
    "        # Set count\n",
    "        count = count + 1\n",
    "        \n",
    "    # Get reduced chi square, which should be around 1\n",
    "    diff=q_estimate-np.dot(matrix_A, new_num_flux)\n",
    "    dof = matrix_A.shape[0] - matrix_A.shape[1]\n",
    "    \n",
    "    # Notify of convergence\n",
    "    if ((count < max_iterations) & (converged == True)):\n",
    "        print('Slice: {slice_n}. '\n",
    "              'Convergence reached. '\n",
    "              'Iterations: {count}. '\n",
    "              'reduced chi2: {chi2}'.format(slice_n=slice_n, \n",
    "                                            count=count-1,\n",
    "                                            chi2=round(chi_square/dof, 2))\n",
    "             )\n",
    "        \n",
    "    return new_num_flux, chi_square, dof, converged"
   ]
  },
  {
   "cell_type": "code",
   "execution_count": 426,
   "id": "88697c5c",
   "metadata": {},
   "outputs": [
    {
     "name": "stdout",
     "output_type": "stream",
     "text": [
      "Slice: 35. Convergence reached. Iterations: 762. reduced chi2: 1.67\n"
     ]
    }
   ],
   "source": [
    "# Perform the maximum entropy iterative process\n",
    "(new_num_flux,\n",
    " chi_square,\n",
    " dof, converged) = maximum_entropy_iteration(initial_num_flux,\n",
    "                                             altitude_bins, energy_bins,\n",
    "                                             matrix_A,\n",
    "                                             q_estimate, dq_estimate)"
   ]
  },
  {
   "cell_type": "code",
   "execution_count": 427,
   "id": "bcf0e763",
   "metadata": {},
   "outputs": [],
   "source": [
    "# Store results in dictionary\n",
    "inversion_results = {}\n",
    "\n",
    "# Write data to dictionary\n",
    "d = {'altitude' : altitude_bins,\n",
    "     'initial_density' : np.sqrt(np.dot(matrix_A,\n",
    "                                        initial_num_flux)/alphas),\n",
    "     'modeled_density' : np.sqrt(np.dot(matrix_A,\n",
    "                                        new_num_flux)/alphas),\n",
    "     'measured_density' : np.sqrt(q_estimate/alphas),\n",
    "     'energy_bins' : energy_bins,\n",
    "     'modeled_flux' : new_num_flux,\n",
    "     'chi2' : chi_square,\n",
    "     'dof' : dof,\n",
    "     'converged' : converged,\n",
    "     'units' : 'Values given in meters, seconds, electron-volts.'\n",
    "    }\n",
    "\n",
    "inversion_results[run_time] = d\n",
    "\n",
    "# # Clear temporary files in /dev/shm directory in Linux\n",
    "# try:\n",
    "#     os.system('rm /dev/shm/*')\n",
    "# except Exception as e: print(e)"
   ]
  },
  {
   "cell_type": "markdown",
   "id": "fcf5d1f0",
   "metadata": {},
   "source": [
    "## Plot the ISR number density and modeled number density to see how well fit worked. Also plot energy spectrum."
   ]
  },
  {
   "cell_type": "code",
   "execution_count": 428,
   "id": "7957fdda",
   "metadata": {},
   "outputs": [],
   "source": [
    "def inversion_density_plot(inversion_results, run_time):\n",
    "    \"\"\"Function to create and save a plot of the inversion \n",
    "    electron density.\n",
    "    INPUT\n",
    "    inversion_results\n",
    "        type: dictionary\n",
    "        about: dictionary of inversion results\n",
    "    run_time\n",
    "        type: datetime\n",
    "        about: time to create plot for\n",
    "    OUTPUT\n",
    "    none\n",
    "    \"\"\"\n",
    "    # Get altitude values\n",
    "    altitudes_z = inversion_results[run_time]['altitude']\n",
    "\n",
    "    # Get measured density\n",
    "    pfisr_density_plot = inversion_results[run_time]['measured_density']\n",
    "    pfisr_density_plot = pfisr_density_plot\n",
    "\n",
    "    # Initial guess\n",
    "    initial_guess_plot = inversion_results[run_time]['initial_density']\n",
    "    initial_guess_plot = initial_guess_plot\n",
    "    \n",
    "    # Finally modeled guess\n",
    "    final_guess_plot = inversion_results[run_time]['modeled_density']\n",
    "    final_guess_plot = final_guess_plot\n",
    "    \n",
    "    # Get reduced chi2\n",
    "    chi2 = inversion_results[run_time]['chi2']\n",
    "    dof = inversion_results[run_time]['dof']\n",
    "    reduced_chi2 = chi2/dof\n",
    "\n",
    "    # Plot figure of initial guess, real data and fit\n",
    "    fig, ax = plt.subplots()\n",
    "\n",
    "    # Titles and axis labels\n",
    "    ax.set_title(str(run_time) + r' $\\chi^2_{red}=$' \n",
    "                 + str(round(reduced_chi2, 2)),\n",
    "                 fontsize=14, fontweight='bold')\n",
    "\n",
    "    ax.set_ylabel('Altitude [km]', fontsize=14)\n",
    "    ax.set_xlabel(r'Electron Density [m$^{-3}$]', fontsize=14)\n",
    "\n",
    "    # Axis\n",
    "    ax.tick_params(axis='x', which='major', labelsize=14)\n",
    "    ax.tick_params(axis='y', which='major', labelsize=14)\n",
    "\n",
    "    ax.set_xscale('log')\n",
    "    #ax.set_xlim(1e10, 1e12)\n",
    "    #ax.set_ylim(75, 140)\n",
    "\n",
    "    # Plot PFISR data\n",
    "    ax.plot(pfisr_density_plot, altitudes_z/1000,\n",
    "            color='k', linewidth=2, label = 'PFISR')\n",
    "\n",
    "    # Plot initial guess\n",
    "    ax.plot(initial_guess_plot, altitudes_z/1000,\n",
    "            color='C2', linewidth=2, label = 'Initial Guess')\n",
    "\n",
    "    # Plot final guess\n",
    "    ax.plot(final_guess_plot, altitudes_z/1000,\n",
    "            color='C1', linewidth=2, label = 'Final Guess')\n",
    "    \n",
    "    ax.plot(np.sqrt(abs(dq_estimate/alphas)), altitudes_z/1000,\n",
    "            color='red')\n",
    "    \n",
    "    #ax.set_xlim(1e9, 1e12)\n",
    "\n",
    "    plt.legend()\n",
    "\n",
    "    plt.tight_layout()\n",
    "\n",
    "def inversion_numflux_plot(inversion_results, run_time):\n",
    "    \"\"\"Function to create and save a plot of the inversion \n",
    "    energy spectrum.\n",
    "    INPUT\n",
    "    inversion_results\n",
    "        type: dictionary\n",
    "        about: dictionary of inversion results\n",
    "    run_time\n",
    "        type: datetime\n",
    "        about: time to create plot for\n",
    "    OUTPUT\n",
    "    none\n",
    "    \"\"\"\n",
    "    # Get energy values\n",
    "    energies_K = inversion_results[run_time]['energy_bins']\n",
    "    \n",
    "    # Get modeled number flux values\n",
    "    num_flux = inversion_results[run_time]['modeled_flux']\n",
    "    new_num_flux = new_inversion_results[run_time]['modeled_flux']\n",
    "    \n",
    "    # Get differential number flux by multiplying by energy bin width\n",
    "    bin_widths = energies_K - np.roll(energies_K, shift=1)\n",
    "    \n",
    "    # Fix first value\n",
    "    bin_widths[0] = energies_K[0] - 0\n",
    "    \n",
    "    num_flux = num_flux*bin_widths\n",
    "    new_num_flux = new_num_flux*bin_widths\n",
    "    \n",
    "    # Get reduced chi2\n",
    "    chi2 = inversion_results[run_time]['chi2']\n",
    "    dof = inversion_results[run_time]['dof']\n",
    "    reduced_chi2 = chi2/dof\n",
    "\n",
    "    # Plot figure of energy spectrum\n",
    "    fig, ax = plt.subplots()\n",
    "\n",
    "    # Titles and axis labels\n",
    "    ax.set_title(str(run_time) + r' $\\chi^2_{red}=$' \n",
    "                 + str(round(reduced_chi2, 2)),\n",
    "                 fontsize=14, fontweight='bold')\n",
    "\n",
    "    ax.set_ylabel(r'Number Flux [m$^{-2}$ s$^{-1}$ eV$^{-1}$]',\n",
    "                  fontsize=14)\n",
    "    ax.set_xlabel('Energy [eV]', fontsize=14)\n",
    "\n",
    "    # Axis\n",
    "    ax.tick_params(axis='x', which='major', labelsize=14)\n",
    "    ax.tick_params(axis='y', which='major', labelsize=14)\n",
    "\n",
    "    ax.set_xscale('log')\n",
    "    ax.set_yscale('log')\n",
    "\n",
    "    # Plot the energy\n",
    "    ax.plot(energies_K, num_flux)\n",
    "    ax.plot(energies_K, new_num_flux)\n",
    "\n",
    "    plt.tight_layout()"
   ]
  },
  {
   "cell_type": "code",
   "execution_count": 429,
   "id": "eb5a73d3",
   "metadata": {},
   "outputs": [
    {
     "data": {
      "image/png": "[encoded data removed]",
      "text/plain": [
       "<Figure size 432x288 with 1 Axes>"
      ]
     },
     "metadata": {
      "needs_background": "light"
     },
     "output_type": "display_data"
    }
   ],
   "source": [
    "# Plot density\n",
    "inversion_density_plot(inversion_results, run_time)"
   ]
  },
  {
   "cell_type": "code",
   "execution_count": 430,
   "id": "e5439864",
   "metadata": {},
   "outputs": [
    {
     "data": {
      "image/png": "[encoded data removed]",
      "text/plain": [
       "<Figure size 432x288 with 1 Axes>"
      ]
     },
     "metadata": {
      "needs_background": "light"
     },
     "output_type": "display_data"
    }
   ],
   "source": [
    "# Plot energy spectrum\n",
    "inversion_numflux_plot(inversion_results, run_time)"
   ]
  },
  {
   "cell_type": "code",
   "execution_count": 115,
   "id": "19760401",
   "metadata": {},
   "outputs": [
    {
     "data": {
      "image/png": "[encoded data removed]",
      "text/plain": [
       "<Figure size 432x288 with 1 Axes>"
      ]
     },
     "metadata": {
      "needs_background": "light"
     },
     "output_type": "display_data"
    }
   ],
   "source": [
    "test_z = np.linspace(60, 144, 100)\n",
    "worse_alphas = [recombination_coeff(z) for z in test_z]\n",
    "better_alphas = [better_recombination_coeff(z) for z in test_z]\n",
    "\n",
    "plt.plot(worse_alphas, test_z)\n",
    "plt.plot(better_alphas, test_z)\n",
    "plt.xscale('log')"
   ]
  },
  {
   "cell_type": "code",
   "execution_count": 431,
   "id": "805cba94",
   "metadata": {},
   "outputs": [],
   "source": [
    "# Get energy values\n",
    "energies_K = inversion_results[run_time]['energy_bins']\n",
    "\n",
    "# Get modeled number flux values\n",
    "num_flux = inversion_results[run_time]['modeled_flux']\n",
    "new_num_flux = new_inversion_results[run_time]['modeled_flux']\n",
    "\n",
    "# Get differential number flux by multiplying by energy bin width\n",
    "bin_widths = energies_K - np.roll(energies_K, shift=1)\n",
    "\n",
    "# Fix first value\n",
    "bin_widths[0] = energies_K[0] - 0\n",
    "\n",
    "num_flux = num_flux*bin_widths*energies_K\n",
    "new_num_flux = new_num_flux*bin_widths*energies_K"
   ]
  },
  {
   "cell_type": "code",
   "execution_count": 432,
   "id": "d198179c",
   "metadata": {},
   "outputs": [
    {
     "data": {
      "text/plain": [
       "0.0359515929707831"
      ]
     },
     "execution_count": 432,
     "metadata": {},
     "output_type": "execute_result"
    }
   ],
   "source": [
    "np.sum(num_flux[energies_K >= 30000])/np.sum(num_flux)"
   ]
  },
  {
   "cell_type": "code",
   "execution_count": 433,
   "id": "c97dc72d",
   "metadata": {},
   "outputs": [
    {
     "data": {
      "text/plain": [
       "0.027005436866369734"
      ]
     },
     "execution_count": 433,
     "metadata": {},
     "output_type": "execute_result"
    }
   ],
   "source": [
    "(np.sum(new_num_flux[energies_K >= 30000]))/np.sum(new_num_flux)"
   ]
  },
  {
   "cell_type": "code",
   "execution_count": 434,
   "id": "795ea90f",
   "metadata": {},
   "outputs": [
    {
     "data": {
      "text/plain": [
       "0.36698345296384854"
      ]
     },
     "execution_count": 434,
     "metadata": {},
     "output_type": "execute_result"
    }
   ],
   "source": [
    "np.sum(num_flux)/1e16"
   ]
  },
  {
   "cell_type": "code",
   "execution_count": 435,
   "id": "4c2628f5",
   "metadata": {},
   "outputs": [
    {
     "data": {
      "text/plain": [
       "0.2998425727598409"
      ]
     },
     "execution_count": 435,
     "metadata": {},
     "output_type": "execute_result"
    }
   ],
   "source": [
    "np.sum(new_num_flux)/1e16"
   ]
  },
  {
   "cell_type": "code",
   "execution_count": null,
   "id": "025fd852",
   "metadata": {},
   "outputs": [],
   "source": []
  }
 ],
 "metadata": {
  "kernelspec": {
   "display_name": "Python 3 (ipykernel)",
   "language": "python",
   "name": "python3"
  },
  "language_info": {
   "codemirror_mode": {
    "name": "ipython",
    "version": 3
   },
   "file_extension": ".py",
   "mimetype": "text/x-python",
   "name": "python",
   "nbconvert_exporter": "python",
   "pygments_lexer": "ipython3",
   "version": "3.9.7"
  }
 },
 "nbformat": 4,
 "nbformat_minor": 5
}
