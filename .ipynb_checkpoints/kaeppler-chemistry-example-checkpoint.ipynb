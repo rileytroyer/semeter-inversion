{
 "cells": [
  {
   "cell_type": "code",
   "execution_count": 3,
   "metadata": {},
   "outputs": [],
   "source": [
    "import datetime\n",
    "from datetime import datetime as dt\n",
    "import h5py\n",
    "import matplotlib.pyplot as plt\n",
    "import numpy\n",
    "import numpy as np\n",
    "import tables\n",
    "from scipy.interpolate import interp1d\n",
    "\n",
    "from kaeppler_chemistry import Chemistry as Chemistry"
   ]
  },
  {
   "cell_type": "code",
   "execution_count": 4,
   "metadata": {},
   "outputs": [],
   "source": [
    "# Read in class\n",
    "chem = Chemistry(SteadyStateTime = 100.,ISRIntegrationTime = 100.)"
   ]
  },
  {
   "cell_type": "code",
   "execution_count": 5,
   "metadata": {},
   "outputs": [],
   "source": [
    "def get_isr_data(pfisr_filename, pfisr_data_dir):\n",
    "    \"\"\"Function to get relevant data from PFISR datafile.\n",
    "    INPUT\n",
    "    pfisr_filename\n",
    "        type: str\n",
    "        about: data file name, should be .h5 file\n",
    "    pfisr_data_dir\n",
    "        type: str\n",
    "        about: directory where isr data is stored\n",
    "    OUTPUT\n",
    "    utc_time\n",
    "        type: array of datetimes\n",
    "        about: time stamp for each measurement\n",
    "    pfisr_altitude\n",
    "        type: array of float\n",
    "        about: altitude stamp for each measurement in meters\n",
    "    e_density\n",
    "        type: array of float\n",
    "        about: electron number density in m^-3\n",
    "    de_density\n",
    "        type: array of float\n",
    "        about: error in number density\n",
    "    \"\"\"\n",
    "    \n",
    "    # Read in the h5 file\n",
    "    pfisr_file = h5py.File(pfisr_data_dir + pfisr_filename, 'r')\n",
    "\n",
    "    # Get the different beams and select specified angle\n",
    "    beam_angle = 90\n",
    "    beams = np.array(pfisr_file['BeamCodes'])\n",
    "\n",
    "    # Get the beam with a 90 degree elevation angle\n",
    "    indexes = np.linspace(0, len(beams)-1, len(beams))\n",
    "    beam_num = int(indexes[np.abs(beams[:,2] - beam_angle) == 0][0])\n",
    "\n",
    "    # Get time and convert to utc datetime\n",
    "    unix_time = np.array(pfisr_file['Time']['UnixTime'])[:,0]\n",
    "    utc_time = np.array([dt.utcfromtimestamp(d) for d in unix_time])\n",
    "\n",
    "    # Get the altitude array\n",
    "    pfisr_altitude = np.array(pfisr_file['NeFromPower']\n",
    "                              ['Altitude'])[beam_num, :]\n",
    "\n",
    "    # Get the uncorrected number density array\n",
    "    e_density = np.array(pfisr_file['NeFromPower']\n",
    "                         ['Ne_NoTr'])[:, beam_num, :]\n",
    "\n",
    "    # Take the transpose\n",
    "    e_density = np.transpose(e_density)\n",
    "    \n",
    "    # Find the noise floor by averaging between 55km and 60km\n",
    "    #...assume this should be zero\n",
    "    noise_floor = np.mean(e_density[(pfisr_altitude > 55000)\n",
    "                                    & (pfisr_altitude < 60000), :],\n",
    "                          axis=0)\n",
    "    \n",
    "    # Loop through each column and subtract off noise floor\n",
    "    for j in range(e_density.shape[1]):\n",
    "        e_density[:, j] = e_density[:, j] - noise_floor[j]\n",
    "    \n",
    "    # Get error values\n",
    "    de_density = np.array(pfisr_file['NeFromPower']\n",
    "                          ['errNe_NoTr'])[:, beam_num, :]\n",
    "    de_density = np.transpose(de_density)\n",
    "\n",
    "    # Close file\n",
    "    pfisr_file.close()\n",
    "    \n",
    "    return utc_time, unix_time, pfisr_altitude, e_density, de_density"
   ]
  },
  {
   "cell_type": "code",
   "execution_count": 12,
   "metadata": {},
   "outputs": [],
   "source": [
    "# Read in pfisr data\n",
    "pfisr_data_dir = '../source-energy-pa/data/pfisr-data/mswinds/'\n",
    "pfisr_filename = '20161013.003_bc_nenotr_1min.h5'\n",
    "(utc_time, unixTime,\n",
    " pfisr_altitude, e_density, de_density) = get_isr_data(pfisr_filename, pfisr_data_dir)\n",
    "\n",
    "# Convert to correct units\n",
    "Ne = e_density/1e6\n",
    "dNe = de_density/1e6\n",
    "Alt = pfisr_altitude/1000\n",
    "\n",
    "# Latitude and longitude of instrument\n",
    "glat = 65.12992\n",
    "glon = -147.47104"
   ]
  },
  {
   "cell_type": "code",
   "execution_count": 35,
   "metadata": {},
   "outputs": [],
   "source": [
    "altitude_bins = np.linspace(60, 144, 100)\n",
    "alt_min_km = min(altitude_bins)\n",
    "alt_max_km = max(altitude_bins)\n",
    "alt_step_km = altitude_bins[1] - altitude_bins[0]"
   ]
  },
  {
   "cell_type": "code",
   "execution_count": 36,
   "metadata": {},
   "outputs": [],
   "source": [
    "# which beam and which time index\n",
    "slice_n = 151\n",
    "\n",
    "# need to automate the time slice\n",
    "tmpNe = Ne[:, slice_n]\n",
    "tmpAlt = Alt\n",
    "tmpdNe = dNe[:, slice_n]\n",
    "\n",
    "# filter the data\n",
    "        # these should be set by config files\n",
    "qcutoff = numpy.where( (tmpAlt >=  alt_min_km) \\\n",
    "                        & (tmpAlt <= alt_max_km))\n",
    "\n",
    "tmpY = tmpAlt[qcutoff]\n",
    "tmpZ = tmpNe[qcutoff]\n",
    "tmpdZ = tmpdNe[qcutoff]"
   ]
  },
  {
   "cell_type": "code",
   "execution_count": 14,
   "metadata": {},
   "outputs": [],
   "source": [
    "# Create interpolated altitude grid\n",
    "Y = altitude_bins\n",
    "fZ = interp1d(tmpY,tmpZ)\n",
    "fdZ = interp1d(tmpY,tmpdZ)\n",
    "Z = fZ(Y)\n",
    "dZ = fdZ(Y)*Z\n",
    "tUnix = unixTime[TimeIndex]"
   ]
  },
  {
   "cell_type": "code",
   "execution_count": 15,
   "metadata": {},
   "outputs": [],
   "source": [
    "# create the energy grid:\n",
    "EeV = numpy.logspace(np.log10(1000), np.log10(500000), 50)"
   ]
  },
  {
   "cell_type": "code",
   "execution_count": 16,
   "metadata": {},
   "outputs": [
    {
     "data": {
      "text/plain": [
       "datetime.datetime(2016, 10, 13, 13, 0, 56)"
      ]
     },
     "execution_count": 16,
     "metadata": {},
     "output_type": "execute_result"
    }
   ],
   "source": [
    "datetime.datetime.utcfromtimestamp(tUnix)"
   ]
  },
  {
   "cell_type": "code",
   "execution_count": 17,
   "metadata": {
    "scrolled": true
   },
   "outputs": [
    {
     "name": "stdout",
     "output_type": "stream",
     "text": [
      "71\n",
      "izMin [10 11 12 13 14 15 16 17 18 19 20 21 22 23 24 25 26 27 28 29 30 31 32 33\n",
      " 34 35 36 37 38 39 40 41 42 43 44 45 46 47 48 49 50 51 52 53 54 55 56 57\n",
      " 58 59 60 61 62 63 64 65 66 67 68 69 70]\n",
      "q0 (array([0]),)\n",
      "i0 10\n",
      "iz y0, 0 [1.06292990e+000 1.16239895e-050 2.07513579e-050 3.08437157e-100]\n",
      "iz y0, 1 [1.03855160e+000 8.56952300e-051 1.52985644e-050 1.71677556e-100]\n",
      "iz y0, 2 [1.09142329e+000 6.77725261e-051 1.20987866e-050 1.02041909e-100]\n",
      "iz y0, 3 [1.26132819e+000 5.90247798e-051 1.05366805e-050 6.67475955e-101]\n",
      "iz y0, 4 [1.60970015e+000 5.64857642e-051 1.00825300e-050 4.81797550e-101]\n",
      "iz y0, 5 [2.24681911e+000 5.85337761e-051 1.04464300e-050 3.68086987e-101]\n",
      "iz y0, 6 [3.35255639e+000 6.43997153e-051 1.14897510e-050 2.95765135e-101]\n",
      "iz y0, 7 [5.22397560e+000 7.41797062e-051 1.32267422e-050 2.51064891e-101]\n",
      "iz y0, 8 [8.35133975e+000 8.75366651e-051 1.55958173e-050 2.18473496e-101]\n",
      "iz y0, 9 [1.35432377e+001 1.04669541e-050 1.86137393e-050 1.92890696e-101]\n",
      "iz y0, 10 [2.21324925e+001 1.26113995e-050 2.23655453e-050 1.71282420e-101]\n",
      "iz y0, 11 [5.73407676e+001 2.40817014e-050 4.23735423e-050 2.40713002e-101]\n",
      "iz y0, 12 [1.16563217e+002 3.61692160e-050 6.27407001e-050 2.67049705e-101]\n",
      "iz y0, 13 [1.92704066e+002 4.42159540e-050 7.53003785e-050 2.41271416e-101]\n",
      "iz y0, 14 [2.69236160e+002 4.57246158e-050 7.64445074e-050 1.84575575e-101]\n",
      "iz y0, 15 [3.30536496e+002 4.15934676e-050 6.85161804e-050 1.24360797e-101]\n",
      "iz y0, 16 [3.70805587e+002 3.46129877e-050 5.64685907e-050 7.67523387e-102]\n",
      "iz y0, 17 [3.95304697e+002 2.74022839e-050 4.44427739e-050 4.51179468e-102]\n",
      "iz y0, 18 [4.16891095e+002 2.14817772e-050 3.46605170e-050 2.62895223e-102]\n",
      "iz y0, 19 [4.56431882e+002 1.74969449e-050 2.79643827e-050 1.59272825e-102]\n",
      "iz y0, 20 [5.46634103e+002 1.55978579e-050 2.44003166e-050 1.05647430e-102]\n",
      "iz y0, 21 [7.54577067e+002 1.60260379e-050 2.38694696e-050 8.07272004e-103]\n",
      "iz y0, 22 [1.12976508e+003 1.78133447e-050 2.43269916e-050 6.65124839e-103]\n",
      "iz y0, 23 [1.28939691e+003 1.49688789e-050 1.97150646e-050 4.11242643e-103]\n",
      "iz y0, 24 [1.43138885e+003 1.21253154e-050 1.54674914e-050 2.42925380e-103]\n",
      "iz y0, 25 [1.55273805e+003 9.49562004e-051 1.17889948e-050 1.37267806e-103]\n",
      "iz y0, 26 [1.65261733e+003 7.21026101e-051 8.75634638e-051 7.43295510e-104]\n",
      "iz y0, 27 [1.73189908e+003 5.32395836e-051 6.35406812e-051 3.86570239e-104]\n",
      "iz y0, 28 [1.79261689e+003 3.83361856e-051 4.51512819e-051 1.93596188e-104]\n",
      "iz y0, 29 [1.83744495e+003 2.69933402e-051 3.14835972e-051 9.36225111e-105]\n",
      "iz y0, 30 [1.86928164e+003 1.86327262e-051 2.15826993e-051 4.38428687e-105]\n",
      "iz y0, 31 [1.89094439e+003 1.26457592e-051 1.45793425e-051 1.99613919e-105]\n",
      "iz y0, 32 [1.90497831e+003 8.48233593e-052 9.74969295e-052 8.91443887e-106]\n",
      "iz y0, 33 [1.91355362e+003 5.65161773e-052 6.48401189e-052 3.93950586e-106]\n",
      "iz y0, 34 [1.91842175e+003 3.75629928e-052 4.30501577e-052 1.73581674e-106]\n",
      "iz y0, 35 [1.92093217e+003 2.49943333e-052 2.86299629e-052 7.67527429e-107]\n",
      "iz y0, 36 [1.92206846e+003 1.67017825e-052 1.91265019e-052 3.42513315e-107]\n",
      "iz y0, 37 [1.92249027e+003 1.12386234e-052 1.28690447e-052 1.55053636e-107]\n",
      "iz y0, 38 [1.92260431e+003 7.63472452e-053 8.74210208e-053 7.15511269e-108]\n",
      "iz y0, 39 [1.92262098e+003 5.24917201e-053 6.01051581e-053 3.38226434e-108]\n",
      "iz y0, 40 [1.92262076e+003 3.66223018e-053 4.19340297e-053 1.64633141e-108]\n",
      "iz y0, 41 [1.90603935e+003 2.57573862e-053 2.95990450e-053 8.21528839e-109]\n",
      "iz y0, 42 [1.86031737e+003 1.81286609e-053 2.10396566e-053 4.17044437e-109]\n",
      "iz y0, 43 [1.79189590e+003 1.27880351e-053 1.50637537e-053 2.15507666e-109]\n",
      "iz y0, 44 [1.70721353e+003 9.05339472e-054 1.08636606e-053 1.13413188e-109]\n",
      "iz y0, 45 [1.61219861e+003 6.44034326e-054 7.89132044e-054 6.08005749e-110]\n",
      "iz y0, 46 [1.51195841e+003 4.60826663e-054 5.77331642e-054 3.32071845e-110]\n",
      "iz y0, 47 [1.41065419e+003 3.31940373e-054 4.25410693e-054 1.84749029e-110]\n",
      "iz y0, 48 [1.31148323e+003 2.40856340e-054 3.15646780e-054 1.04669191e-110]\n",
      "iz y0, 49 [1.21676031e+003 1.76130971e-054 2.35822630e-054 6.03540891e-111]\n",
      "iz y0, 50 [1.12804356e+003 1.29844074e-054 1.77392639e-054 3.53933707e-111]\n",
      "iz y0, 51 [1.04627165e+003 9.65102229e-055 1.34355910e-054 2.10887221e-111]\n",
      "iz y0, 52 [9.71905961e+002 7.23223925e-055 1.02425621e-054 1.27526750e-111]\n",
      "iz y0, 53 [9.05054669e+002 5.46309834e-055 7.85746582e-055 7.81633722e-112]\n",
      "iz y0, 54 [8.45576616e+002 4.16367851e-055 6.07157919e-055 4.86081377e-112]\n",
      "iz y0, 55 [7.93172907e+002 3.20632545e-055 4.73278361e-055 3.07361654e-112]\n",
      "iz y0, 56 [7.47446598e+002 2.49685794e-055 3.72513853e-055 1.97828821e-112]\n",
      "iz y0, 57 [7.07957298e+002 1.96632878e-055 2.96111028e-055 1.29553586e-112]\n",
      "iz y0, 58 [6.74252943e+002 1.56598460e-055 2.37705235e-055 8.62882575e-113]\n",
      "iz y0, 59 [6.45895170e+002 1.26113330e-055 1.92715295e-055 5.84261992e-113]\n",
      "iz y0, 60 [6.22474484e+002 1.02689892e-055 1.57790690e-055 4.01996474e-113]\n",
      "iz y0, 61 [6.03618382e+002 8.45308537e-056 1.30466974e-055 2.80924657e-113]\n",
      "iz y0, 62 [5.88997862e+002 7.03283941e-056 1.08921707e-055 1.99294697e-113]\n",
      "iz y0, 63 [5.78326321e+002 5.91235647e-056 9.17991189e-056 1.43454994e-113]\n",
      "iz y0, 64 [5.71359793e+002 5.02079263e-056 7.80844815e-056 1.04716475e-113]\n",
      "iz y0, 65 [5.67893693e+002 4.30540660e-056 6.70134865e-056 7.74725354e-114]\n",
      "iz y0, 66 [5.67760941e+002 3.72666448e-056 5.80072071e-056 5.80579625e-114]\n",
      "iz y0, 67 [5.70824757e+002 3.25467284e-056 5.06237920e-056 4.40446315e-114]\n",
      "iz y0, 68 [5.76977728e+002 2.86669395e-056 4.45243450e-056 3.38044191e-114]\n",
      "iz y0, 69 [5.86133353e+002 2.54527779e-056 3.94468731e-056 2.62317448e-114]\n",
      "iz y0, 70 [5.98223518e+002 2.27694304e-056 3.51876547e-056 2.05670644e-114]\n"
     ]
    }
   ],
   "source": [
    "# OK so now run the initialization to get the background ionosphere in the D-region\n",
    "chem.Set_Inital_Ionization(tUnix, glat, glon, alt_min_km, alt_max_km, alt_step_km)"
   ]
  },
  {
   "cell_type": "code",
   "execution_count": 18,
   "metadata": {
    "scrolled": true
   },
   "outputs": [
    {
     "name": "stdout",
     "output_type": "stream",
     "text": [
      "Ne2QZ iz,indx, IRIiz 0 0 70.0 70.0 1739.4613208570645 1739.4616791769588 18.01683807373047\n",
      "Ne2QZ iz,indx, IRIiz 1 1 71.0 71.0 558.6645463632706 558.6645065968294 5.649621963500977\n",
      "Ne2QZ iz,indx, IRIiz 2 2 72.0 72.0 1766.6924636284652 1766.6921421395493 18.309059143066406\n",
      "Ne2QZ iz,indx, IRIiz 3 3 73.0 73.0 4065.395120401283 4065.3944021910165 44.18431091308594\n",
      "Ne2QZ iz,indx, IRIiz 4 4 74.0 74.0 6878.684888802376 6878.683592152553 79.37490844726562\n",
      "Ne2QZ iz,indx, IRIiz 5 5 75.0 75.0 6570.308176577667 6570.306343530955 75.31375122070312\n",
      "Ne2QZ iz,indx, IRIiz 6 6 76.0 76.0 12192.018187854304 12192.015622177722 158.27166748046875\n",
      "Ne2QZ iz,indx, IRIiz 7 7 77.0 77.0 14420.82869887328 14420.825620664822 196.99945068359375\n",
      "Ne2QZ iz,indx, IRIiz 8 8 78.0 78.0 16116.138090248114 16116.136608918227 228.98529052734375\n",
      "Ne2QZ iz,indx, IRIiz 9 9 79.0 79.0 22330.776848737398 22330.77457318425 367.4410400390625\n",
      "Ne2QZ iz,indx, IRIiz 10 10 80.0 80.0 24407.03591499444 24407.034330076 421.9754638671875\n",
      "Ne2QZ iz,indx, IRIiz 11 11 81.0 81.0 38899.552769669164 38899.55758432912 939.885009765625\n",
      "Ne2QZ iz,indx, IRIiz 12 12 82.0 82.0 56910.54567681113 56910.544713229494 1951.59814453125\n",
      "Ne2QZ iz,indx, IRIiz 13 13 83.0 83.0 67469.52192171429 67469.51546133865 2734.6044921875\n",
      "Ne2QZ iz,indx, IRIiz 14 14 84.0 84.0 79195.03861034181 79195.0416832499 3764.2431640625\n",
      "Ne2QZ iz,indx, IRIiz 15 15 85.0 85.0 94142.89892031734 94142.90383130997 5317.994140625\n",
      "Ne2QZ iz,indx, IRIiz 16 16 86.0 86.0 111808.82882262768 111808.83374143203 7500.767578125\n",
      "Ne2QZ iz,indx, IRIiz 17 17 87.0 87.0 107767.85164235474 107767.85587343817 6968.416015625\n",
      "Ne2QZ iz,indx, IRIiz 18 18 88.0 88.0 122757.3195071273 122757.29589011022 9041.60546875\n",
      "Ne2QZ iz,indx, IRIiz 19 19 89.0 89.0 128076.28724162506 128076.27690933362 9842.12109375\n",
      "Ne2QZ iz,indx, IRIiz 20 20 90.0 90.0 132821.89707475514 132821.88608816653 10584.98046875\n",
      "Ne2QZ iz,indx, IRIiz 21 21 91.0 91.0 133471.22812523853 133471.20949446977 10688.72265625\n",
      "Ne2QZ iz,indx, IRIiz 22 22 92.0 92.0 128919.86054400723 128919.8621853254 9972.19921875\n",
      "Ne2QZ iz,indx, IRIiz 23 23 93.0 93.0 147918.59051517074 147918.59829143033 13127.86328125\n",
      "Ne2QZ iz,indx, IRIiz 24 24 94.0 94.0 164619.92463212553 164619.93708683716 16259.8828125\n",
      "Ne2QZ iz,indx, IRIiz 25 25 95.0 95.0 167246.09318726094 167246.10274847737 16782.8203125\n",
      "Ne2QZ iz,indx, IRIiz 26 26 96.0 96.0 181550.24919015067 181550.2175698013 19776.3046875\n",
      "Ne2QZ iz,indx, IRIiz 27 27 97.0 97.0 177346.54891560343 177346.53018137568 18871.1015625\n",
      "Ne2QZ iz,indx, IRIiz 28 28 98.0 98.0 178045.49669517664 178045.51897646417 19020.1484375\n",
      "Ne2QZ iz,indx, IRIiz 29 29 99.0 99.0 188773.79505636587 188773.798075281 21381.3359375\n",
      "Ne2QZ iz,indx, IRIiz 30 30 100.0 100.0 188476.60460702283 188476.62343589502 21314.0703125\n",
      "Ne2QZ iz,indx, IRIiz 31 31 101.0 101.0 192021.94968470084 192021.9425500409 22123.4609375\n",
      "Ne2QZ iz,indx, IRIiz 32 32 102.0 102.0 190506.31530350013 190506.32523733313 21775.6015625\n",
      "Ne2QZ iz,indx, IRIiz 33 33 103.0 103.0 192411.5590517176 192411.58150582394 22213.3359375\n",
      "Ne2QZ iz,indx, IRIiz 34 34 104.0 104.0 180893.95581416506 180893.93027294823 19633.5859375\n",
      "Ne2QZ iz,indx, IRIiz 35 35 105.0 105.0 168306.00084240772 168305.9648794092 16996.2109375\n",
      "Ne2QZ iz,indx, IRIiz 36 36 106.0 106.0 159814.75340405718 159814.7546509225 15324.44921875\n",
      "Ne2QZ iz,indx, IRIiz 37 37 107.0 107.0 151501.90488188397 151501.9118478949 13771.62109375\n",
      "Ne2QZ iz,indx, IRIiz 38 38 108.0 108.0 150667.14175898206 150667.1605453376 13620.27734375\n",
      "Ne2QZ iz,indx, IRIiz 39 39 109.0 109.0 142673.53850628075 142673.54465993211 12213.37890625\n",
      "Ne2QZ iz,indx, IRIiz 40 40 110.0 110.0 153601.24490440282 153601.2615716538 14155.94140625\n",
      "Ne2QZ iz,indx, IRIiz 41 41 111.0 111.0 154613.90588619196 154613.9021727032 14343.21484375\n",
      "Ne2QZ iz,indx, IRIiz 42 42 112.0 112.0 154877.8736682971 154877.89102494557 14392.23828125\n",
      "Ne2QZ iz,indx, IRIiz 43 43 113.0 113.0 152747.71027440435 152747.69295788108 13999.04296875\n",
      "Ne2QZ iz,indx, IRIiz 44 44 114.0 114.0 153207.76115273172 153207.77421713105 14083.50390625\n",
      "Ne2QZ iz,indx, IRIiz 45 45 115.0 115.0 145249.14073866946 145249.1321307148 12658.30859375\n",
      "Ne2QZ iz,indx, IRIiz 46 46 116.0 116.0 146678.53275586382 146678.54791331012 12908.67578125\n",
      "Ne2QZ iz,indx, IRIiz 47 47 117.0 117.0 137114.20268387688 137114.2256553223 11280.15234375\n",
      "Ne2QZ iz,indx, IRIiz 48 48 118.0 118.0 133265.50507000016 133265.4933741697 10655.80078125\n",
      "Ne2QZ iz,indx, IRIiz 49 49 119.0 119.0 125805.39524843407 125805.38801926568 9496.19921875\n",
      "Ne2QZ iz,indx, IRIiz 50 50 120.0 120.0 120425.94442282399 120425.95023166836 8701.44140625\n",
      "Ne2QZ iz,indx, IRIiz 51 51 121.0 121.0 115207.15022283165 115207.14812197657 7963.62890625\n",
      "Ne2QZ iz,indx, IRIiz 52 52 122.0 122.0 111868.97914479829 111868.97126471768 7508.837890625\n",
      "Ne2QZ iz,indx, IRIiz 53 53 123.0 123.0 102368.75627520871 102368.74497130998 6287.736328125\n",
      "Ne2QZ iz,indx, IRIiz 54 54 124.0 124.0 107547.35818632343 107547.35700333574 6939.931640625\n",
      "Ne2QZ iz,indx, IRIiz 55 55 125.0 125.0 105908.40598653856 105908.40204268073 6730.041015625\n",
      "Ne2QZ iz,indx, IRIiz 56 56 126.0 126.0 98756.39825534119 98756.39866401942 5851.865234375\n",
      "Ne2QZ iz,indx, IRIiz 57 57 127.0 127.0 96180.22980326596 96180.21453749803 5550.595703125\n",
      "Ne2QZ iz,indx, IRIiz 58 58 128.0 128.0 98331.7977377829 98331.8027427311 5801.662109375\n",
      "Ne2QZ iz,indx, IRIiz 59 59 129.0 129.0 89801.51215855956 89801.50907765131 4838.990234375\n",
      "Ne2QZ iz,indx, IRIiz 60 60 130.0 130.0 93965.38039268187 93965.3838045019 5297.962890625\n",
      "Ne2QZ iz,indx, IRIiz 61 61 131.0 131.0 89264.42421998657 89264.40680792341 4781.306640625\n",
      "Ne2QZ iz,indx, IRIiz 62 62 132.0 132.0 94145.41036809469 94145.3939230572 5318.275390625\n",
      "Ne2QZ iz,indx, IRIiz 63 63 133.0 133.0 87935.52258950667 87935.51936331861 4640.080078125\n",
      "Ne2QZ iz,indx, IRIiz 64 64 134.0 134.0 91563.95584674104 91563.95680046253 5030.712890625\n",
      "Ne2QZ iz,indx, IRIiz 65 65 135.0 135.0 92242.79890062197 92242.80249431448 5105.556640625\n",
      "Ne2QZ iz,indx, IRIiz 66 66 136.0 136.0 109283.84684876971 109283.8479247979 7165.833984375\n",
      "Ne2QZ iz,indx, IRIiz 67 67 137.0 137.0 82166.56083911115 82166.56840859794 4051.662109375\n",
      "Ne2QZ iz,indx, IRIiz 68 68 138.0 138.0 79104.60861605333 79104.60419790966 3755.6630859375\n",
      "Ne2QZ iz,indx, IRIiz 69 69 139.0 139.0 77206.53310672102 77206.53701801141 3577.8720703125\n"
     ]
    }
   ],
   "source": [
    "# ok so now we can basically run the initialization script which converts the electron density to ionization rate.\n",
    "# note that this is in CGS units and Riley did everything in SI so some conversions might be needed.\n",
    "# remember I designed that you need to run the 'init' function above anytime you change location or altitude.\n",
    "# so currently the Chem class is 'baked in' for the time and location of interest.\n",
    "\n",
    "Qz,NeOut2 = chem.Calculate_Ionization_From_Ne(Y, Z, chem.DregionChem)"
   ]
  },
  {
   "cell_type": "code",
   "execution_count": 19,
   "metadata": {},
   "outputs": [
    {
     "name": "stdout",
     "output_type": "stream",
     "text": [
      "Qz.shape, Z.shape (70,) (70,)\n",
      "[1.80168381e+01 5.64962196e+00 1.83090591e+01 4.41843109e+01\n",
      " 7.93749084e+01 7.53137512e+01 1.58271667e+02 1.96999451e+02\n",
      " 2.28985291e+02 3.67441040e+02 4.21975464e+02 9.39885010e+02\n",
      " 1.95159814e+03 2.73460449e+03 3.76424316e+03 5.31799414e+03\n",
      " 7.50076758e+03 6.96841602e+03 9.04160547e+03 9.84212109e+03\n",
      " 1.05849805e+04 1.06887227e+04 9.97219922e+03 1.31278633e+04\n",
      " 1.62598828e+04 1.67828203e+04 1.97763047e+04 1.88711016e+04\n",
      " 1.90201484e+04 2.13813359e+04 2.13140703e+04 2.21234609e+04\n",
      " 2.17756016e+04 2.22133359e+04 1.96335859e+04 1.69962109e+04\n",
      " 1.53244492e+04 1.37716211e+04 1.36202773e+04 1.22133789e+04\n",
      " 1.41559414e+04 1.43432148e+04 1.43922383e+04 1.39990430e+04\n",
      " 1.40835039e+04 1.26583086e+04 1.29086758e+04 1.12801523e+04\n",
      " 1.06558008e+04 9.49619922e+03 8.70144141e+03 7.96362891e+03\n",
      " 7.50883789e+03 6.28773633e+03 6.93993164e+03 6.73004102e+03\n",
      " 5.85186523e+03 5.55059570e+03 5.80166211e+03 4.83899023e+03\n",
      " 5.29796289e+03 4.78130664e+03 5.31827539e+03 4.64008008e+03\n",
      " 5.03071289e+03 5.10555664e+03 7.16583398e+03 4.05166211e+03\n",
      " 3.75566309e+03 3.57787207e+03]\n"
     ]
    }
   ],
   "source": [
    "print('Qz.shape, Z.shape', Qz.shape, Z.shape)\n",
    "print(Qz)"
   ]
  },
  {
   "cell_type": "code",
   "execution_count": 20,
   "metadata": {},
   "outputs": [],
   "source": [
    "# convert to SI\n",
    "qz_estimate_SI = Qz*(100.**3.)\n",
    "dq_estimate_SI = 0.15*qz_estimate_SI # make the uncertainty a uniform 15% uncertainty"
   ]
  },
  {
   "cell_type": "code",
   "execution_count": 21,
   "metadata": {},
   "outputs": [
    {
     "data": {
      "text/plain": [
       "array([1.80168381e+07, 5.64962196e+06, 1.83090591e+07, 4.41843109e+07,\n",
       "       7.93749084e+07, 7.53137512e+07, 1.58271667e+08, 1.96999451e+08,\n",
       "       2.28985291e+08, 3.67441040e+08, 4.21975464e+08, 9.39885010e+08,\n",
       "       1.95159814e+09, 2.73460449e+09, 3.76424316e+09, 5.31799414e+09,\n",
       "       7.50076758e+09, 6.96841602e+09, 9.04160547e+09, 9.84212109e+09,\n",
       "       1.05849805e+10, 1.06887227e+10, 9.97219922e+09, 1.31278633e+10,\n",
       "       1.62598828e+10, 1.67828203e+10, 1.97763047e+10, 1.88711016e+10,\n",
       "       1.90201484e+10, 2.13813359e+10, 2.13140703e+10, 2.21234609e+10,\n",
       "       2.17756016e+10, 2.22133359e+10, 1.96335859e+10, 1.69962109e+10,\n",
       "       1.53244492e+10, 1.37716211e+10, 1.36202773e+10, 1.22133789e+10,\n",
       "       1.41559414e+10, 1.43432148e+10, 1.43922383e+10, 1.39990430e+10,\n",
       "       1.40835039e+10, 1.26583086e+10, 1.29086758e+10, 1.12801523e+10,\n",
       "       1.06558008e+10, 9.49619922e+09, 8.70144141e+09, 7.96362891e+09,\n",
       "       7.50883789e+09, 6.28773633e+09, 6.93993164e+09, 6.73004102e+09,\n",
       "       5.85186523e+09, 5.55059570e+09, 5.80166211e+09, 4.83899023e+09,\n",
       "       5.29796289e+09, 4.78130664e+09, 5.31827539e+09, 4.64008008e+09,\n",
       "       5.03071289e+09, 5.10555664e+09, 7.16583398e+09, 4.05166211e+09,\n",
       "       3.75566309e+09, 3.57787207e+09])"
      ]
     },
     "execution_count": 21,
     "metadata": {},
     "output_type": "execute_result"
    }
   ],
   "source": [
    "qz_estimate_SI # looks like a slightly higher magnitude than Riley's inversions..."
   ]
  },
  {
   "cell_type": "code",
   "execution_count": 29,
   "metadata": {},
   "outputs": [
    {
     "data": {
      "image/png": "[encoded data removed]",
      "text/plain": [
       "<Figure size 432x288 with 1 Axes>"
      ]
     },
     "metadata": {
      "needs_background": "light"
     },
     "output_type": "display_data"
    }
   ],
   "source": [
    "altitude_bins = np.arange(AltMinKm,AltMaxKm,AltStepKm)\n",
    "\n",
    "plt.plot(qz_estimate_SI, altitude_bins)\n",
    "plt.ylim(70, 140)\n",
    "plt.xlim(1e7, 3e10)\n",
    "plt.xscale('log')"
   ]
  },
  {
   "cell_type": "code",
   "execution_count": null,
   "metadata": {},
   "outputs": [],
   "source": []
  }
 ],
 "metadata": {
  "kernelspec": {
   "display_name": "Python 3 (ipykernel)",
   "language": "python",
   "name": "python3"
  },
  "language_info": {
   "codemirror_mode": {
    "name": "ipython",
    "version": 3
   },
   "file_extension": ".py",
   "mimetype": "text/x-python",
   "name": "python",
   "nbconvert_exporter": "python",
   "pygments_lexer": "ipython3",
   "version": "3.9.7"
  }
 },
 "nbformat": 4,
 "nbformat_minor": 2
}
