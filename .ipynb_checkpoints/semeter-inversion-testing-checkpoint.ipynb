{
 "cells": [
  {
   "cell_type": "markdown",
   "id": "d48c30f4",
   "metadata": {},
   "source": [
    "## Code to attempt to build the Semeter, Kamalabadi 2005 inversion model in python\n",
    "\n",
    "written by Riley Troyer fall 2021"
   ]
  },
  {
   "cell_type": "code",
   "execution_count": 1,
   "id": "15b54385",
   "metadata": {},
   "outputs": [],
   "source": [
    "# Libraries\n",
    "from datetime import datetime as dt\n",
    "import h5py\n",
    "from matplotlib import pyplot as plt\n",
    "from matplotlib import colors\n",
    "import numpy as np\n",
    "from scipy.interpolate import interp1d\n",
    "from scipy.integrate import quad"
   ]
  },
  {
   "cell_type": "code",
   "execution_count": 135,
   "id": "d07cf55d",
   "metadata": {},
   "outputs": [],
   "source": [
    "# Read in the atmospheric density file from MSIS\n",
    "#msis_filename = 'nrlmsise_20161013_1300ut.txt'\n",
    "msis_filename = 'nrlmsise_20161013_1030ut.txt'\n",
    "msis_data = np.loadtxt(msis_filename, skiprows=29)\n",
    "\n",
    "# Get altitude in km\n",
    "msis_alt = msis_data[:, 0]\n",
    "#...convert to meters\n",
    "msis_alt = msis_alt*1000\n",
    "\n",
    "# And density in g/cm^-3\n",
    "msis_density = msis_data[:, 1]\n",
    "#...convert to kg/m^-3\n",
    "msis_density = msis_density*1000\n",
    "\n",
    "# Create a scipy interpolation function to define density v. altitude\n",
    "msis_interp_density = interp1d(msis_alt, msis_density)"
   ]
  },
  {
   "cell_type": "markdown",
   "id": "f1c2e2a9",
   "metadata": {},
   "source": [
    "## The first step is to determine a formula for the ion production rate. This depends on the specific atmospheric density.\n",
    "\n",
    "### $q(z, K) = \\frac{\\Lambda \\rho K F}{35.5 R} $\n",
    "\n",
    "where K is the energy of an electron in eV. F is the flux, which we'll take to be $1 \\times 10^{12} \\, \\text{m}^{-2} \\cdot \\text{s}^{-1}$, $R$ is the range-energy function, and $\\Lambda$ is a university energy dissipation function."
   ]
  },
  {
   "cell_type": "code",
   "execution_count": 136,
   "id": "35245d85",
   "metadata": {},
   "outputs": [],
   "source": [
    "def barrett_hays_range_energy_func(K):\n",
    "    \"\"\"Function to define mass range of electron in air for a specific\n",
    "    energy K in eV. From Barett & Hays 1976\n",
    "    INPUT\n",
    "    K\n",
    "        type: float\n",
    "        about: energy of electron in eV\n",
    "    OUTPUT\n",
    "    R\n",
    "        type: float\n",
    "        about: mass range of particle in kg m^-2 \n",
    "    \"\"\"\n",
    "    # Convert energy to keV to match formula\n",
    "    K = K/1000\n",
    "    \n",
    "    # Range function\n",
    "    R = 4.3e-7 + 5.36e-6 * K**(1.67) - 0.38e-8 * K**(-0.7)\n",
    "    \n",
    "    # Convert R from g/cm^2 to kg/m^2\n",
    "    R = R * 10\n",
    "    \n",
    "    return R\n",
    "\n",
    "def mass_distance(z, z_inf=1e6, I=0):\n",
    "    \"\"\"Function to mass distance of particle traveling some distance\n",
    "    into the atmosphere. Denoted s in the derivations.\n",
    "    INPUT\n",
    "    z\n",
    "        type: float\n",
    "        about: altitude that particle reached in meters\n",
    "    z_inf=1e6\n",
    "        type: float\n",
    "        about: altitude that is approximating infinity in meters\n",
    "    I=0\n",
    "        type: float\n",
    "        about: angle of magnetic inclination at measuring site in radians\n",
    "    OUTPUT\n",
    "    s\n",
    "        type: float\n",
    "        about: mass distance in kg m^-2\n",
    "    \"\"\"\n",
    "    \n",
    "    # Calculate mass distance traveled \n",
    "    s = (1/np.cos(I)) * quad(msis_interp_density, z, z_inf,\n",
    "                             limit=1000)[0]\n",
    "    \n",
    "    return s"
   ]
  },
  {
   "cell_type": "code",
   "execution_count": 137,
   "id": "c9776735",
   "metadata": {},
   "outputs": [],
   "source": [
    "# Read in file with energy dissipation function\n",
    "lambda_filename = 'semeter_kamalabadi_lambda_function.txt'\n",
    "lambda_data = np.loadtxt(lambda_filename, skiprows=5)\n",
    "\n",
    "# Create an interpolated function from this\n",
    "#...values outside set to 0\n",
    "lambda_interp = interp1d(lambda_data[:, 0], lambda_data[:, 1],\n",
    "                         bounds_error=False, fill_value=0)"
   ]
  },
  {
   "cell_type": "code",
   "execution_count": 138,
   "id": "fd027f02",
   "metadata": {},
   "outputs": [
    {
     "name": "stdout",
     "output_type": "stream",
     "text": [
      "Calculating mass distance function...\n"
     ]
    },
    {
     "name": "stderr",
     "output_type": "stream",
     "text": [
      "/tmp/ipykernel_2514095/1401857884.py:44: IntegrationWarning: The occurrence of roundoff error is detected, which prevents \n",
      "  the requested tolerance from being achieved.  The error may be \n",
      "  underestimated.\n",
      "  s = (1/np.cos(I)) * quad(msis_interp_density, z, z_inf,\n"
     ]
    },
    {
     "name": "stdout",
     "output_type": "stream",
     "text": [
      "Finished.\n"
     ]
    }
   ],
   "source": [
    "# Define a range of z and K values to define the ion production rate (q)\n",
    "#...over\n",
    "\n",
    "# Altitude\n",
    "altitudes_z = np.linspace(50e3, 140e3, 100)\n",
    "\n",
    "# Calculate mass distance (s) for each altitude\n",
    "print('Calculating mass distance function...')\n",
    "s = np.array([mass_distance(z) for z in altitudes_z])\n",
    "print('Finished.')\n",
    "\n",
    "# Get density at each altitude\n",
    "density_rho = np.array([msis_interp_density(z) for z in altitudes_z])\n",
    "\n",
    "# Energies\n",
    "energies_K = np.logspace(np.log10(300), np.log10(300000), 50)"
   ]
  },
  {
   "cell_type": "code",
   "execution_count": 139,
   "id": "69904d96",
   "metadata": {},
   "outputs": [],
   "source": [
    "# Calculate ion production rate for each energy and store in dictionary\n",
    "ion_prod_rate = {}\n",
    "\n",
    "for i, energy in enumerate(energies_K):\n",
    "    \n",
    "    # Calculate range-energy value\n",
    "    R = barrett_hays_range_energy_func(energy)\n",
    "    \n",
    "    # Get the (s/R)(z) for the energy\n",
    "    s_R = s/R\n",
    "    \n",
    "    # Use s/R to get Lambda function values\n",
    "    lambda_vals = lambda_interp(s_R)\n",
    "    \n",
    "    # Define flux in m^-2 s^-1\n",
    "    F = 1e12\n",
    "    \n",
    "    # Use all of this to calculate ion production rate as function of alt\n",
    "    q = (lambda_vals * density_rho * energy * F) / (35.5 * R)\n",
    "    \n",
    "    # Write to dictionary\n",
    "    ion_prod_rate[energy] = q"
   ]
  },
  {
   "cell_type": "markdown",
   "id": "e2509682",
   "metadata": {},
   "source": [
    "## Now that we have ion production rate as a function of energy and altitude, our next step is to construct the A matrix such that\n",
    "### $\\bf{q} = \\bf{A} \\phi$\n",
    "### each column of A is just q(z) for a specific energy multiplied by the energy bin width "
   ]
  },
  {
   "cell_type": "code",
   "execution_count": 140,
   "id": "ce492761",
   "metadata": {},
   "outputs": [],
   "source": [
    "# Construct the A matrix\n",
    "matrix_A = np.zeros([len(altitudes_z), len(energies_K)])\n",
    "\n",
    "# Loop through each energy value\n",
    "for j in range(len(energies_K)):\n",
    "    \n",
    "    # Get the size of the energy bin\n",
    "    #...first bin is from zero to energy\n",
    "    if j == 0:\n",
    "        delta_E = energies_K[j] - 0\n",
    "    else:\n",
    "        delta_E = energies_K[j] - energies_K[j-1]\n",
    "        \n",
    "    # Set column of matrix\n",
    "    matrix_A[:, j] = ion_prod_rate[energies_K[j]] * (delta_E/F)"
   ]
  },
  {
   "cell_type": "markdown",
   "id": "fc059ded",
   "metadata": {},
   "source": [
    "## With A created we can now read in the ISR data to get an estimate of $q(z)$, assuming that $q = \\alpha n^2 + \\frac{dn}{dt}$ and that $\\frac{dn}{dt}$ is negligible."
   ]
  },
  {
   "cell_type": "code",
   "execution_count": 141,
   "id": "48ff0854",
   "metadata": {},
   "outputs": [],
   "source": [
    "# Get the needed PFISR parameters, altitude, density, time,\n",
    "#...and temperature\n",
    "\n",
    "low_cutoff = 0\n",
    "high_cutoff=1e12\n",
    "\n",
    "pfisr_filename = '20161013.003_bc_nenotr_1min.h5'\n",
    "\n",
    "# Read in the h5 file\n",
    "pfisr_file = h5py.File(pfisr_filename, 'r')\n",
    "\n",
    "# Get the different beams and select specified angle\n",
    "beam_angle = 90\n",
    "beams = np.array(pfisr_file['BeamCodes'])\n",
    "\n",
    "# Get the beam with a 90 degree beam\n",
    "indexes = np.linspace(0, len(beams)-1, len(beams))\n",
    "beam_num = int(indexes[np.abs(beams[:,2] - beam_angle) == 0][0])\n",
    "\n",
    "# Get time\n",
    "unix_time = np.array(pfisr_file['Time']['UnixTime'])[:,0]\n",
    "utc_time = np.array([dt.utcfromtimestamp(d) for d in unix_time])\n",
    "\n",
    "# Get the altitude array\n",
    "pfisr_altitude = np.array(pfisr_file['NeFromPower']\n",
    "                          ['Altitude'])[beam_num, :]\n",
    "\n",
    "# Convert to kilometers\n",
    "pfisr_altitude = pfisr_altitude\n",
    "\n",
    "# Get the uncorrected number density array\n",
    "e_density = np.array(pfisr_file['NeFromPower']\n",
    "                     ['Ne_NoTr'])[:, beam_num, :]\n",
    "\n",
    "# Filter it assuming data outside of range is bad\n",
    "e_density[e_density < low_cutoff] = 0.0\n",
    "e_density[e_density > high_cutoff] = 0.0\n",
    "\n",
    "# Take the transpose\n",
    "e_density = np.transpose(e_density)\n",
    "\n",
    "# Get error values\n",
    "de_density = np.array(pfisr_file['NeFromPower']\n",
    "                      ['errNe_NoTr'])[:, beam_num, :]\n",
    "de_density = np.transpose(de_density)\n",
    "\n",
    "# Close file\n",
    "pfisr_file.close()"
   ]
  },
  {
   "cell_type": "markdown",
   "id": "f554bcfc",
   "metadata": {},
   "source": [
    "## For testing purposes I'm only going to consider 1 slice of data"
   ]
  },
  {
   "cell_type": "code",
   "execution_count": 144,
   "id": "e8376353",
   "metadata": {},
   "outputs": [],
   "source": [
    "# slice number\n",
    "#n = 150\n",
    "#n = 145\n",
    "#n = 50\n",
    "n = 2\n",
    "e_density_slice = e_density[:, n]\n",
    "de_density_slice = de_density[:, n]\n",
    "\n",
    "# Only take value above 50 km, below data can be off\n",
    "e_density_slice = e_density_slice[pfisr_altitude > 50]\n",
    "\n",
    "de_density_slice = de_density_slice[pfisr_altitude>50]\n",
    "\n",
    "\n",
    "# Make an interpolation model of this data with respect to altitude\n",
    "#...but only do this for altitudes >50 km, below data can be weird\n",
    "pfisr_density_interp = interp1d(pfisr_altitude[pfisr_altitude>50],\n",
    "                                e_density_slice[pfisr_altitude>50])\n",
    "\n",
    "pfisr_error_interp = interp1d(pfisr_altitude[pfisr_altitude>50],\n",
    "                              de_density_slice[pfisr_altitude>50])"
   ]
  },
  {
   "cell_type": "code",
   "execution_count": 145,
   "id": "fbebf5fb",
   "metadata": {},
   "outputs": [],
   "source": [
    "def recombination_coeff(z):\n",
    "    \"\"\"Function defining recombination coefficient\n",
    "    INPUT\n",
    "    z\n",
    "        type:float\n",
    "        about: altitude in kilometers\n",
    "    OUTPUT\n",
    "    alpha\n",
    "        type: float\n",
    "        about: recombination coefficient in m^3/s\n",
    "    \"\"\"\n",
    "    \n",
    "    alpha = 2.5e-12 * np.exp(-z/51.2)\n",
    "    \n",
    "    return alpha"
   ]
  },
  {
   "cell_type": "code",
   "execution_count": 146,
   "id": "e1eb6998",
   "metadata": {
    "scrolled": true
   },
   "outputs": [],
   "source": [
    "# Calculate all recombination coeffcients\n",
    "alphas = np.array([recombination_coeff(z/1000) for z in altitudes_z])\n",
    "\n",
    "# Multiply by pfisr density to get an estimate of ion production rate\n",
    "q_estimate = alphas * pfisr_density_interp(altitudes_z)**2\n",
    "\n",
    "# Get error dq = 2*alpha*n*dn\n",
    "dq_estimate = (2 * alphas * pfisr_density_interp(altitudes_z)\n",
    "               * pfisr_error_interp(altitudes_z))"
   ]
  },
  {
   "cell_type": "code",
   "execution_count": 147,
   "id": "557cf2b6",
   "metadata": {},
   "outputs": [
    {
     "data": {
      "image/png": "[encoded data removed]",
      "text/plain": [
       "<Figure size 432x288 with 1 Axes>"
      ]
     },
     "metadata": {
      "needs_background": "light"
     },
     "output_type": "display_data"
    }
   ],
   "source": [
    "plt.plot(q_estimate, altitudes_z)\n",
    "plt.xscale('log')"
   ]
  },
  {
   "cell_type": "code",
   "execution_count": 148,
   "id": "3c2f38c4",
   "metadata": {},
   "outputs": [],
   "source": [
    "# Make an initial guess of the number flux\n",
    "initial_num_flux = np.ones(len(energies_K))*(1e12/len(energies_K))\n",
    "\n",
    "# Divide by energy bin widths\n",
    "bin_widths = energies_K - np.roll(energies_K, shift=1)\n",
    "\n",
    "# Fix first value\n",
    "bin_widths[0] = energies_K[0] - 0\n",
    "\n",
    "# Set initial guess\n",
    "initial_num_flux = initial_num_flux/bin_widths\n",
    "\n",
    "# If full column of A matrix is zero set initial flux to zero\n",
    "for j in range(len(energies_K)):\n",
    "    \n",
    "    if np.sum(matrix_A[:, j]) == 0:\n",
    "        initial_num_flux[j] = 0"
   ]
  },
  {
   "cell_type": "code",
   "execution_count": 149,
   "id": "9a59befe",
   "metadata": {
    "scrolled": true
   },
   "outputs": [
    {
     "name": "stdout",
     "output_type": "stream",
     "text": [
      "Convergence reached. Iterations:  2\n"
     ]
    },
    {
     "name": "stderr",
     "output_type": "stream",
     "text": [
      "/tmp/ipykernel_2514095/3906768603.py:40: RuntimeWarning: divide by zero encountered in true_divide\n",
      "  t = 1/np.dot(matrix_A[:, min_js], old_num_flux[min_js])\n",
      "/tmp/ipykernel_2514095/3906768603.py:48: RuntimeWarning: divide by zero encountered in true_divide\n",
      "  frac = np.inner(matrix_A, old_num_flux)/q_estimate\n",
      "/tmp/ipykernel_2514095/3906768603.py:48: RuntimeWarning: invalid value encountered in true_divide\n",
      "  frac = np.inner(matrix_A, old_num_flux)/q_estimate\n",
      "/tmp/ipykernel_2514095/3906768603.py:68: RuntimeWarning: divide by zero encountered in true_divide\n",
      "  chi_square_array = diff**2/dq_estimate**2\n",
      "/tmp/ipykernel_2514095/3906768603.py:68: RuntimeWarning: invalid value encountered in true_divide\n",
      "  chi_square_array = diff**2/dq_estimate**2\n"
     ]
    }
   ],
   "source": [
    "# Set previous value to initial at start\n",
    "old_num_flux = initial_num_flux\n",
    "new_num_flux = np.zeros(len(initial_num_flux))\n",
    "\n",
    "# Create array to store all minimum j values\n",
    "min_js = np.zeros(len(altitudes_z), dtype=int)\n",
    "\n",
    "# Find all nonzero indices of A matrix\n",
    "nonzero_args = np.argwhere(matrix_A > 0)\n",
    "\n",
    "for i in range(len(min_js)):\n",
    "\n",
    "    non_zeros = nonzero_args[nonzero_args[:, 0] == i]\n",
    "\n",
    "    # If there are no non zero values in row, then set to first instance\n",
    "    if len(non_zeros) == 0:\n",
    "        min_js[i] = 0\n",
    "\n",
    "    # Otherwise find the minimum j\n",
    "    else:\n",
    "        min_js[i] = min(non_zeros[:, 1])\n",
    "        \n",
    "# Find the index past which A is defined for altitudes\n",
    "good_alt_index = np.argwhere(min_js>0)[0][0]\n",
    "\n",
    "# Run interations until chi2 < 1.5\n",
    "reduced_chi_square = 10\n",
    "\n",
    "# Or count < specified amount\n",
    "count = 0\n",
    "\n",
    "while (reduced_chi_square > 1.5):    \n",
    "\n",
    "    # Check count\n",
    "    if count > 10000:\n",
    "        print('Max iterations reached with chi2 = ', reduced_chi_square)\n",
    "        break\n",
    "    \n",
    "    # Construct the t vector\n",
    "    t = 1/np.dot(matrix_A[:, min_js], old_num_flux[min_js])\n",
    "\n",
    "    # Adjust for infinite values in regions without a nonzero j\n",
    "    t[t == np.inf] = 0        \n",
    "\n",
    "    for j in range(len(energies_K)):\n",
    "\n",
    "        # Construct c vector\n",
    "        frac = np.inner(matrix_A, old_num_flux)/q_estimate\n",
    "        c = 20 * (1 - frac) * t\n",
    "\n",
    "        # Account for nan and infinite values\n",
    "        #...this is why warning is raised\n",
    "        c[np.isnan(c)] = 0\n",
    "        c[c == -np.inf] = 0\n",
    "        c[c == np.inf] = 0\n",
    "\n",
    "        # Define w constant\n",
    "        w = np.ones(len(altitudes_z))/len(altitudes_z)\n",
    "\n",
    "        # Summation of matrix elements\n",
    "        i_sum = np.sum(w*c*matrix_A[:, j])\n",
    "\n",
    "        # New guess\n",
    "        new_num_flux[j] = old_num_flux[j]/(1 - old_num_flux[j] * i_sum)\n",
    "\n",
    "    # Check chi squared, but only on altitudes that A is defined for\n",
    "    diff = q_estimate - np.dot(matrix_A, new_num_flux)\n",
    "    chi_square_array = diff**2/dq_estimate**2\n",
    "    \n",
    "    # Set undefined values to zero\n",
    "    chi_square_array[np.isnan(chi_square_array)] = 0\n",
    "    chi_square_array[chi_square_array == np.inf] = 0\n",
    "    chi_square_array[chi_square_array == -np.inf] = 0\n",
    "    \n",
    "    chi_square = np.sum(chi_square_array)\n",
    "    \n",
    "    # Reduced chi square should be around 1\n",
    "    reduced_chi_square = chi_square/(len(diff[good_alt_index:])-1)\n",
    "\n",
    "    # Set old value to new\n",
    "    old_num_flux = np.copy(new_num_flux)\n",
    "    \n",
    "    # Set count\n",
    "    count = count + 1\n",
    "    \n",
    "print('Convergence reached. Iterations: ', count-1)"
   ]
  },
  {
   "cell_type": "code",
   "execution_count": 150,
   "id": "c9bc4ae3",
   "metadata": {},
   "outputs": [
    {
     "data": {
      "image/png": "[encoded data removed]",
      "text/plain": [
       "<Figure size 432x288 with 1 Axes>"
      ]
     },
     "metadata": {
      "needs_background": "light"
     },
     "output_type": "display_data"
    }
   ],
   "source": [
    "# Plot figure of initial guess, real data and fit\n",
    "fig, ax = plt.subplots()\n",
    "\n",
    "# Titles and axis labels\n",
    "ax.set_title(str(utc_time[n]),\n",
    "             fontsize=14, fontweight='bold')\n",
    "\n",
    "ax.set_ylabel('Altitude [km]', fontsize=14)\n",
    "ax.set_xlabel(r'Ionization Rate [m$^{-3}$ s$^{-1}$]', fontsize=14)\n",
    "\n",
    "# Axis\n",
    "ax.tick_params(axis='x', which='major', labelsize=14)\n",
    "ax.tick_params(axis='y', which='major', labelsize=14)\n",
    "\n",
    "ax.set_xscale('log')\n",
    "\n",
    "# Plot PFISR data\n",
    "ax.plot(q_estimate[good_alt_index:],\n",
    "        altitudes_z[good_alt_index:]/1000,\n",
    "        color='k', linewidth=2, label = 'PFISR')\n",
    "\n",
    "# Plot initial guess\n",
    "ax.plot(np.dot(matrix_A, initial_num_flux)[good_alt_index:],\n",
    "        altitudes_z[good_alt_index:]/1000,\n",
    "        color='C2', linewidth=2, label = 'Initial Guess')\n",
    "\n",
    "# Plot final guess\n",
    "ax.plot(np.dot(matrix_A, new_num_flux)[good_alt_index:],\n",
    "        altitudes_z[good_alt_index:]/1000,\n",
    "        color='C1', linewidth=2, label = 'Final Guess')\n",
    "\n",
    "plt.legend()\n",
    "\n",
    "plt.tight_layout()\n",
    "\n",
    "plt.savefig('semeter-inversion-test-q-2.jpg', dpi=150)"
   ]
  },
  {
   "cell_type": "code",
   "execution_count": 151,
   "id": "42b6a079",
   "metadata": {},
   "outputs": [
    {
     "data": {
      "image/png": "[encoded data removed]",
      "text/plain": [
       "<Figure size 432x288 with 1 Axes>"
      ]
     },
     "metadata": {
      "needs_background": "light"
     },
     "output_type": "display_data"
    }
   ],
   "source": [
    "# Plot figure of initial guess, real data and fit\n",
    "fig, ax = plt.subplots()\n",
    "\n",
    "# Titles and axis labels\n",
    "ax.set_title(str(utc_time[n]),\n",
    "             fontsize=14, fontweight='bold')\n",
    "\n",
    "ax.set_ylabel(r'Number Flux [m$^{-2}$ s$^{-1}$]', fontsize=14)\n",
    "ax.set_xlabel('Energy [eV]', fontsize=14)\n",
    "\n",
    "# Axis\n",
    "ax.tick_params(axis='x', which='major', labelsize=14)\n",
    "ax.tick_params(axis='y', which='major', labelsize=14)\n",
    "\n",
    "ax.set_xscale('log')\n",
    "ax.set_yscale('log')\n",
    "\n",
    "# Plot the energy\n",
    "ax.plot(energies_K, new_num_flux)\n",
    "\n",
    "plt.tight_layout()\n",
    "\n",
    "plt.savefig('semeter-inversion-test-numflux-2.jpg', dpi=150)"
   ]
  },
  {
   "cell_type": "code",
   "execution_count": null,
   "id": "ac5ae6e8",
   "metadata": {},
   "outputs": [],
   "source": []
  }
 ],
 "metadata": {
  "kernelspec": {
   "display_name": "Python 3 (ipykernel)",
   "language": "python",
   "name": "python3"
  },
  "language_info": {
   "codemirror_mode": {
    "name": "ipython",
    "version": 3
   },
   "file_extension": ".py",
   "mimetype": "text/x-python",
   "name": "python",
   "nbconvert_exporter": "python",
   "pygments_lexer": "ipython3",
   "version": "3.9.7"
  }
 },
 "nbformat": 4,
 "nbformat_minor": 5
}
