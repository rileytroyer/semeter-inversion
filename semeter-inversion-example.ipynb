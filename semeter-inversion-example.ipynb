{
 "cells": [
  {
   "cell_type": "markdown",
   "id": "d48c30f4",
   "metadata": {},
   "source": [
    "## Code to attempt to build the Semeter, Kamalabadi 2005 inversion model in python\n",
    "\n",
    "written by Riley Troyer fall 2021"
   ]
  },
  {
   "cell_type": "code",
   "execution_count": 1,
   "id": "15b54385",
   "metadata": {},
   "outputs": [],
   "source": [
    "# Libraries\n",
    "from datetime import datetime as dt\n",
    "import h5py\n",
    "from matplotlib import pyplot as plt\n",
    "from matplotlib import colors\n",
    "import msise00\n",
    "import numpy as np\n",
    "import os\n",
    "from scipy.interpolate import interp1d\n",
    "from scipy.integrate import trapezoid"
   ]
  },
  {
   "cell_type": "markdown",
   "id": "825caa0a",
   "metadata": {},
   "source": [
    "## Functions used in program"
   ]
  },
  {
   "cell_type": "code",
   "execution_count": 2,
   "id": "fbebf5fb",
   "metadata": {},
   "outputs": [],
   "source": [
    "def get_msis_density(run_time, altitudes_z, max_alt=1001e3,\n",
    "                     glat=65.117, glon=212.540):\n",
    "    \"\"\"Function to get MSIS calculated atmospheric densities.\n",
    "    DEPENDENCIES\n",
    "        msise00, numpy, scipy.interpolate.interp1d\n",
    "    INPUT\n",
    "    run_time\n",
    "        type: datetime\n",
    "        about: time to run msis code for\n",
    "    altitudes\n",
    "        type: array of floats\n",
    "        about: altitudes in meters to run msis code for\n",
    "    max_alt = 1001e3\n",
    "        type: float\n",
    "        about: maximum altitude in meters to run msis for. \n",
    "               Function creates a high altitude log spaced array\n",
    "               between the max of altitudes and the max_alt value.\n",
    "               This is primarily for approximating an indefinite integral.\n",
    "    OUTPUT\n",
    "    total_msis_alt\n",
    "        type: array of floats\n",
    "        about: altitudes values in meters including original array and\n",
    "               high altitude array\n",
    "    msis_interp_density\n",
    "        type: scipy.interplate function\n",
    "        about: 1d interpolation of msis density spanning entire altitude\n",
    "               range.\n",
    "    \"\"\"\n",
    "    \n",
    "    # Run msis for lower altitudes\n",
    "    msis_run_low = msise00.run(time=run_time, altkm=altitudes_z/1000,\n",
    "                               glat=pfrr_lat, glon=pfrr_lon)\n",
    "\n",
    "    # Define a higher altitude array\n",
    "    msis_alt_high = np.logspace(np.log10(max(altitudes_z)+1),\n",
    "                                np.log10(max_alt), 20)\n",
    "    \n",
    "    # Run msis for these higher altitudes\n",
    "    msis_run_high = msise00.run(time=run_time, altkm=msis_alt_high/1000,\n",
    "                               glat=pfrr_lat, glon=pfrr_lon)\n",
    "\n",
    "    # Get total density data\n",
    "    msis_density_low = msis_run_low['Total'].data[0, :, 0, 0]\n",
    "    msis_density_high = msis_run_high['Total'].data[0, :, 0, 0]\n",
    "\n",
    "    # Combine altitude and densities from low and high altitudes\n",
    "    total_msis_alt = np.concatenate((altitudes_z, msis_alt_high))\n",
    "    total_msis_density = np.concatenate((msis_density_low,\n",
    "                                         msis_density_high))\n",
    "\n",
    "    # Create a scipy interpolation function to define density v. altitude\n",
    "    msis_interp_density = interp1d(total_msis_alt, total_msis_density)\n",
    "    \n",
    "    return total_msis_alt, msis_interp_density\n",
    "\n",
    "def barrett_hays_range_energy_func(K):\n",
    "    \"\"\"Function to define mass range of electron in air for a specific\n",
    "    energy K in eV. From Barett & Hays 1976\n",
    "    INPUT\n",
    "    K\n",
    "        type: float\n",
    "        about: energy of electron in eV\n",
    "    OUTPUT\n",
    "    R\n",
    "        type: float\n",
    "        about: mass range of particle in kg m^-2 \n",
    "    \"\"\"\n",
    "    # Convert energy to keV to match formula\n",
    "    K = K/1000\n",
    "    \n",
    "    # Range function\n",
    "    R = 4.3e-7 + 5.36e-6 * K**(1.67) - 0.38e-8 * K**(-0.7)\n",
    "    \n",
    "    # Convert R from g/cm^2 to kg/m^2\n",
    "    R = R * 10\n",
    "    \n",
    "    return R\n",
    "\n",
    "def mass_distance(z_i, I=0):\n",
    "    \"\"\"Function to mass distance of particle traveling some distance\n",
    "    into the atmosphere. Denoted s in the derivations.\n",
    "    Using trapezoid rule for this, which seems to be good enough\n",
    "    INPUT\n",
    "    z\n",
    "        type: int\n",
    "        about: index of altitude that particle reached to\n",
    "    I=0\n",
    "        type: float\n",
    "        about: angle of magnetic inclination at measuring site in radians\n",
    "    OUTPUT\n",
    "    s\n",
    "        type: float\n",
    "        about: mass distance in kg m^-2\n",
    "    \"\"\"\n",
    "    \n",
    "    # Calculate mass distance traveled \n",
    "    s = (1/np.cos(I)) * trapezoid(total_msis_density[z_i:],\n",
    "                                  total_msis_alt[z_i:])\n",
    "    \n",
    "    return s\n",
    "\n",
    "def recombination_coeff(z):\n",
    "    \"\"\"Function defining recombination coefficient\n",
    "    INPUT\n",
    "    z\n",
    "        type:float\n",
    "        about: altitude in kilometers\n",
    "    OUTPUT\n",
    "    alpha\n",
    "        type: float\n",
    "        about: recombination coefficient in m^3/s\n",
    "    \"\"\"\n",
    "    \n",
    "    alpha = 2.5e-12 * np.exp(-z/51.2)\n",
    "    \n",
    "    return alpha"
   ]
  },
  {
   "cell_type": "markdown",
   "id": "0f69b944",
   "metadata": {},
   "source": [
    "## Things used in rest of code"
   ]
  },
  {
   "cell_type": "code",
   "execution_count": 4,
   "id": "beefb7a8",
   "metadata": {},
   "outputs": [],
   "source": [
    "# Get location of PFISR\n",
    "pfrr_lat = 65.117\n",
    "pfrr_lon = 212.540\n",
    "\n",
    "# Define test flux in m^-2 s^-1\n",
    "F = 1e12\n",
    "\n",
    "# Don't use PFISR data below this altitude in km\n",
    "pfisr_min_alt = 50\n",
    "\n",
    "# Define arrays for altitude and energy bins\n",
    "\n",
    "# Altitude in meters\n",
    "#...number of points should be around the same as pfisr data\n",
    "altitudes_z = np.linspace(50e3, 140e3, 100)\n",
    "\n",
    "# Energies in eV\n",
    "#...should probably be less than altitude bins to avoid overfitting\n",
    "energies_K = np.logspace(np.log10(300), np.log10(300000), 50)"
   ]
  },
  {
   "cell_type": "markdown",
   "id": "85258286",
   "metadata": {},
   "source": [
    "## I'll start by reading in all of the datafiles we need"
   ]
  },
  {
   "cell_type": "markdown",
   "id": "eee6030e",
   "metadata": {},
   "source": [
    "### First ISR data"
   ]
  },
  {
   "cell_type": "code",
   "execution_count": 5,
   "id": "942d219d",
   "metadata": {},
   "outputs": [],
   "source": [
    "# Path to pfisr data directory\n",
    "pfisr_data_dir = ('../source-energy-pa/data/pfisr-data/mswinds')\n",
    "\n",
    "# Get a list of all pfisr data files\n",
    "pfisr_files = [f for f in os.listdir(pfisr_data_dir) \n",
    "               if f.endswith('.h5')]\n",
    "\n",
    "# Sort by date\n",
    "pfisr_files = sorted(pfisr_files)\n",
    "\n",
    "pfisr_filename = pfisr_files[12]\n",
    "\n",
    "# Read in the h5 file\n",
    "pfisr_file = h5py.File(pfisr_filename, 'r')\n",
    "\n",
    "# Get the different beams and select specified angle\n",
    "beam_angle = 90\n",
    "beams = np.array(pfisr_file['BeamCodes'])\n",
    "\n",
    "# Get the beam with a 90 degree elevation angle\n",
    "indexes = np.linspace(0, len(beams)-1, len(beams))\n",
    "beam_num = int(indexes[np.abs(beams[:,2] - beam_angle) == 0][0])\n",
    "\n",
    "# Get time and convert to utc datetime\n",
    "unix_time = np.array(pfisr_file['Time']['UnixTime'])[:,0]\n",
    "utc_time = np.array([dt.utcfromtimestamp(d) for d in unix_time])\n",
    "\n",
    "# Get the altitude array\n",
    "pfisr_altitude = np.array(pfisr_file['NeFromPower']\n",
    "                          ['Altitude'])[beam_num, :]\n",
    "\n",
    "# Convert to kilometers\n",
    "pfisr_altitude = pfisr_altitude\n",
    "\n",
    "# Get the uncorrected number density array\n",
    "e_density = np.array(pfisr_file['NeFromPower']\n",
    "                     ['Ne_NoTr'])[:, beam_num, :]\n",
    "\n",
    "# Filter it assuming data outside of range is bad\n",
    "low_cutoff = 0\n",
    "high_cutoff=1e12\n",
    "e_density[e_density < low_cutoff] = 0.0\n",
    "e_density[e_density > high_cutoff] = 0.0\n",
    "\n",
    "# Take the transpose\n",
    "e_density = np.transpose(e_density)\n",
    "\n",
    "# Get error values\n",
    "de_density = np.array(pfisr_file['NeFromPower']\n",
    "                      ['errNe_NoTr'])[:, beam_num, :]\n",
    "de_density = np.transpose(de_density)\n",
    "\n",
    "# Close file\n",
    "pfisr_file.close()"
   ]
  },
  {
   "cell_type": "markdown",
   "id": "7e2e2009",
   "metadata": {},
   "source": [
    "### Next file defining $\\Lambda$ function"
   ]
  },
  {
   "cell_type": "code",
   "execution_count": 6,
   "id": "57fdef57",
   "metadata": {},
   "outputs": [],
   "source": [
    "# Read in file with energy dissipation function\n",
    "lambda_filename = 'semeter_kamalabadi_lambda_function.txt'\n",
    "lambda_data = np.loadtxt(lambda_filename, skiprows=5)\n",
    "\n",
    "# Create an interpolated function from this\n",
    "#...values outside set to 0\n",
    "lambda_interp = interp1d(lambda_data[:, 0], lambda_data[:, 1],\n",
    "                         bounds_error=False, fill_value=0)"
   ]
  },
  {
   "cell_type": "code",
   "execution_count": 21,
   "id": "dbaa7ea4",
   "metadata": {},
   "outputs": [],
   "source": [
    "# Create a dictionary to store inversion results in\n",
    "inversion_results = {}"
   ]
  },
  {
   "cell_type": "markdown",
   "id": "3c517d71",
   "metadata": {},
   "source": [
    "## Start running\n",
    "### start by getting MSISE00 calculated density values"
   ]
  },
  {
   "cell_type": "code",
   "execution_count": 8,
   "id": "aa15b70e",
   "metadata": {},
   "outputs": [],
   "source": [
    "slice_n = 150\n",
    "\n",
    "run_time = utc_time[slice_n]"
   ]
  },
  {
   "cell_type": "code",
   "execution_count": 10,
   "id": "a824893c",
   "metadata": {},
   "outputs": [],
   "source": [
    "# Get MSIS calculated densities\n",
    "(total_msis_alt,\n",
    " msis_interp_density) = get_msis_density(run_time, altitudes_z,\n",
    "                                         max_alt=1001e3,\n",
    "                                         glat=pfrr_lat, glon=pfrr_lon)\n",
    "\n",
    "# Get density for altitude bins\n",
    "total_msis_density = msis_interp_density(total_msis_alt)\n",
    "density_rho = msis_interp_density(altitudes_z)"
   ]
  },
  {
   "cell_type": "markdown",
   "id": "29025c55",
   "metadata": {},
   "source": [
    "## Next we need to calculate the ion production rate. This depends on the specific atmospheric density.\n",
    "\n",
    "### $q(z, K) = \\frac{\\Lambda \\rho K F}{35.5 R} $\n",
    "\n",
    "where K is the energy of an electron in eV. F is the flux, which we'll take to be $1 \\times 10^{12} \\, \\text{m}^{-2} \\cdot \\text{s}^{-1}$, $R$ is the range-energy function, and $\\Lambda$ is a universal energy dissipation function. $\\Lambda$ values for an isotropic beam are given in the paper.\n",
    "\n",
    "### $\\Lambda$ is a function of $s/R$, where $s = \\frac{1}{\\cos(I)} \\int_{0}^{\\infty} \\rho(z)\\, dz$, the mass distance a particle travels through. Here I assume $I$ the incident angle of the particles is 0. $R$ is the range-energy function from Barett & Hays 1976.\n",
    "\n",
    "Values for $\\Lambda$ are defined in the paper"
   ]
  },
  {
   "cell_type": "code",
   "execution_count": 11,
   "id": "fd027f02",
   "metadata": {
    "scrolled": true
   },
   "outputs": [],
   "source": [
    "# Calculate mass distance (s) for each altitude by integrating\n",
    "#...out to 1000 km (~infinity)\n",
    "s = np.array([mass_distance(z) for z in range(len(altitudes_z))])\n",
    "\n",
    "# Calculate ion production rate for each energy and store in dictionary\n",
    "ion_prod_rate = {}\n",
    "\n",
    "for i, energy in enumerate(energies_K):\n",
    "    \n",
    "    # Calculate range-energy value\n",
    "    R = barrett_hays_range_energy_func(energy)\n",
    "    \n",
    "    # Get the (s/R)(z) for the energy\n",
    "    s_R = s/R\n",
    "    \n",
    "    # Use s/R to get Lambda function values\n",
    "    lambda_vals = lambda_interp(s_R)\n",
    "    \n",
    "    # Use all of this to calculate ion production rate as function of alt\n",
    "    q = (lambda_vals * density_rho * energy * F) / (35.5 * R)\n",
    "    \n",
    "    # Write to dictionary\n",
    "    ion_prod_rate[energy] = q"
   ]
  },
  {
   "cell_type": "markdown",
   "id": "e2509682",
   "metadata": {},
   "source": [
    "## Now that we have ion production rate as a function of energy and altitude, our next step is to construct the A matrix such that\n",
    "### $\\bf{q} = \\bf{A} \\phi$\n",
    "### each column of A is just q(z) for a specific energy multiplied by the energy bin width "
   ]
  },
  {
   "cell_type": "code",
   "execution_count": 12,
   "id": "ce492761",
   "metadata": {},
   "outputs": [],
   "source": [
    "# Construct the A matrix\n",
    "matrix_A = np.zeros([len(altitudes_z), len(energies_K)])\n",
    "\n",
    "# Loop through each energy value\n",
    "for j in range(len(energies_K)):\n",
    "    \n",
    "    # Get the size of the energy bin\n",
    "    #...first bin is from zero to energy\n",
    "    if j == 0:\n",
    "        delta_E = energies_K[j] - 0\n",
    "    else:\n",
    "        delta_E = energies_K[j] - energies_K[j-1]\n",
    "        \n",
    "    # Set column of matrix\n",
    "    matrix_A[:, j] = ion_prod_rate[energies_K[j]] * (delta_E/F)"
   ]
  },
  {
   "cell_type": "markdown",
   "id": "fc059ded",
   "metadata": {},
   "source": [
    "## With A created we can now use the ISR data to get an estimate of $q(z)$, assuming that $q = \\alpha n^2 + \\frac{dn}{dt}$ and that $\\frac{dn}{dt}$ is negligible."
   ]
  },
  {
   "cell_type": "code",
   "execution_count": 13,
   "id": "e8376353",
   "metadata": {},
   "outputs": [],
   "source": [
    "# Read in density and errors in those measurements for specific time\n",
    "e_density_slice = e_density[:, slice_n]\n",
    "de_density_slice = de_density[:, slice_n]\n",
    "\n",
    "# Only take value above 50 km, below data can be off\n",
    "e_density_slice = e_density_slice[pfisr_altitude > pfisr_min_alt]\n",
    "\n",
    "de_density_slice = de_density_slice[pfisr_altitude > pfisr_min_alt]\n",
    "\n",
    "\n",
    "# Make an interpolation model of this data with respect to altitude\n",
    "#...but only do this for altitudes > defined minimum value,\n",
    "#...below this data can be weird\n",
    "pfisr_density_interp = interp1d(pfisr_altitude[pfisr_altitude\n",
    "                                               > pfisr_min_alt],\n",
    "                                e_density_slice[pfisr_altitude\n",
    "                                                > pfisr_min_alt])\n",
    "\n",
    "# Same interpolation except for error in density\n",
    "pfisr_error_interp = interp1d(pfisr_altitude[pfisr_altitude\n",
    "                                             > pfisr_min_alt],\n",
    "                              de_density_slice[pfisr_altitude\n",
    "                                               > pfisr_min_alt])"
   ]
  },
  {
   "cell_type": "code",
   "execution_count": 14,
   "id": "e1eb6998",
   "metadata": {
    "scrolled": true
   },
   "outputs": [],
   "source": [
    "# Calculate all recombination coeffcients\n",
    "alphas = np.array([recombination_coeff(z/1000) for z in altitudes_z])\n",
    "\n",
    "# Multiply by pfisr density to get an estimate of ion production rate\n",
    "q_estimate = alphas * pfisr_density_interp(altitudes_z)**2\n",
    "\n",
    "# Get error dq = 2*alpha*n*dn\n",
    "dq_estimate = (2 * alphas * pfisr_density_interp(altitudes_z)\n",
    "               * pfisr_error_interp(altitudes_z))"
   ]
  },
  {
   "cell_type": "code",
   "execution_count": 15,
   "id": "557cf2b6",
   "metadata": {},
   "outputs": [
    {
     "data": {
      "image/png": "[encoded data removed]",
      "text/plain": [
       "<Figure size 432x288 with 1 Axes>"
      ]
     },
     "metadata": {
      "needs_background": "light"
     },
     "output_type": "display_data"
    }
   ],
   "source": [
    "plt.plot(q_estimate, altitudes_z)\n",
    "plt.xscale('log')"
   ]
  },
  {
   "cell_type": "markdown",
   "id": "f5170450",
   "metadata": {},
   "source": [
    "## To make an initial guess of the number flux of each energy bin, I assume a flux of $1 \\times 10^{12}$ m$^{-2}$s $^{-1}$ spread equally over all bins and divided by the width of each bin. \n",
    "\n",
    "### I also assume if the column of A associated with the energy bin is all zero then the flux for that bin is zero."
   ]
  },
  {
   "cell_type": "code",
   "execution_count": 16,
   "id": "3c2f38c4",
   "metadata": {},
   "outputs": [],
   "source": [
    "# Make an initial guess of the number flux\n",
    "initial_num_flux = np.ones(len(energies_K))*(1e12/len(energies_K))\n",
    "\n",
    "# Divide by energy bin widths\n",
    "bin_widths = energies_K - np.roll(energies_K, shift=1)\n",
    "\n",
    "# Fix first value\n",
    "bin_widths[0] = energies_K[0] - 0\n",
    "\n",
    "# Set initial guess\n",
    "initial_num_flux = initial_num_flux/bin_widths\n",
    "\n",
    "# If full column of A matrix is zero set initial flux to zero\n",
    "for j in range(len(energies_K)):\n",
    "    \n",
    "    if np.sum(matrix_A[:, j]) == 0:\n",
    "        initial_num_flux[j] = 0"
   ]
  },
  {
   "cell_type": "markdown",
   "id": "5996d9f4",
   "metadata": {},
   "source": [
    "## Given all this we can now run the maximum entropy method iterations\n",
    "\n",
    "Note: this will cause some warnings due to dividing by 0. I account for the associated undefined values in the code."
   ]
  },
  {
   "cell_type": "code",
   "execution_count": 17,
   "id": "9a59befe",
   "metadata": {
    "scrolled": false
   },
   "outputs": [
    {
     "name": "stdout",
     "output_type": "stream",
     "text": [
      "Convergence reached. Iterations:  33\n"
     ]
    },
    {
     "name": "stderr",
     "output_type": "stream",
     "text": [
      "/tmp/ipykernel_3604984/1513624580.py:40: RuntimeWarning: divide by zero encountered in true_divide\n",
      "  t = 1/np.dot(matrix_A[:, min_js], old_num_flux[min_js])\n",
      "/tmp/ipykernel_3604984/1513624580.py:48: RuntimeWarning: divide by zero encountered in true_divide\n",
      "  frac = np.inner(matrix_A, old_num_flux)/q_estimate\n",
      "/tmp/ipykernel_3604984/1513624580.py:48: RuntimeWarning: invalid value encountered in true_divide\n",
      "  frac = np.inner(matrix_A, old_num_flux)/q_estimate\n",
      "/tmp/ipykernel_3604984/1513624580.py:68: RuntimeWarning: divide by zero encountered in true_divide\n",
      "  chi_square_array = diff**2/dq_estimate**2\n",
      "/tmp/ipykernel_3604984/1513624580.py:68: RuntimeWarning: invalid value encountered in true_divide\n",
      "  chi_square_array = diff**2/dq_estimate**2\n"
     ]
    }
   ],
   "source": [
    "# Set previous value to initial at start\n",
    "old_num_flux = initial_num_flux\n",
    "new_num_flux = np.zeros(len(initial_num_flux))\n",
    "\n",
    "# Create array to store all minimum j values\n",
    "min_js = np.zeros(len(altitudes_z), dtype=int)\n",
    "\n",
    "# Find all nonzero indices of A matrix\n",
    "nonzero_args = np.argwhere(matrix_A > 0)\n",
    "\n",
    "for i in range(len(min_js)):\n",
    "\n",
    "    non_zeros = nonzero_args[nonzero_args[:, 0] == i]\n",
    "\n",
    "    # If there are no non zero values in row, then set to first instance\n",
    "    if len(non_zeros) == 0:\n",
    "        min_js[i] = 0\n",
    "\n",
    "    # Otherwise find the minimum j\n",
    "    else:\n",
    "        min_js[i] = min(non_zeros[:, 1])\n",
    "        \n",
    "# Find the index past which A is defined for altitudes\n",
    "good_alt_index = np.argwhere(min_js>0)[0][0]\n",
    "\n",
    "# Run interations until chi2 < 1.5\n",
    "reduced_chi_square = 10\n",
    "\n",
    "# Or count < specified amount\n",
    "count = 0\n",
    "\n",
    "while (reduced_chi_square > 1.5):    \n",
    "\n",
    "    # Check count\n",
    "    if count > 10000:\n",
    "        print('Max iterations reached with chi2 = ', reduced_chi_square)\n",
    "        break\n",
    "    \n",
    "    # Construct the t vector\n",
    "    t = 1/np.dot(matrix_A[:, min_js], old_num_flux[min_js])\n",
    "\n",
    "    # Adjust for infinite values in regions without a nonzero j\n",
    "    t[t == np.inf] = 0        \n",
    "\n",
    "    for j in range(len(energies_K)):\n",
    "\n",
    "        # Construct c vector\n",
    "        frac = np.inner(matrix_A, old_num_flux)/q_estimate\n",
    "        c = 20 * (1 - frac) * t\n",
    "\n",
    "        # Account for nan and infinite values\n",
    "        #...this is why warning is raised\n",
    "        c[np.isnan(c)] = 0\n",
    "        c[c == -np.inf] = 0\n",
    "        c[c == np.inf] = 0\n",
    "\n",
    "        # Define w constant\n",
    "        w = np.ones(len(altitudes_z))/len(altitudes_z)\n",
    "\n",
    "        # Summation of matrix elements\n",
    "        i_sum = np.sum(w*c*matrix_A[:, j])\n",
    "\n",
    "        # New guess\n",
    "        new_num_flux[j] = old_num_flux[j]/(1 - old_num_flux[j] * i_sum)\n",
    "\n",
    "    # Check chi squared, but only on altitudes that A is defined for\n",
    "    diff = q_estimate - np.dot(matrix_A, new_num_flux)\n",
    "    chi_square_array = diff**2/dq_estimate**2\n",
    "    \n",
    "    # Set undefined values to zero\n",
    "    chi_square_array[np.isnan(chi_square_array)] = 0\n",
    "    chi_square_array[chi_square_array == np.inf] = 0\n",
    "    chi_square_array[chi_square_array == -np.inf] = 0\n",
    "    \n",
    "    # Get the chi squared value\n",
    "    chi_square = np.sum(chi_square_array)\n",
    "    \n",
    "    # And the reduced chi square, which should be around 1\n",
    "    reduced_chi_square = chi_square/(len(diff[good_alt_index:])-1)\n",
    "\n",
    "    # Set old value to new\n",
    "    old_num_flux = np.copy(new_num_flux)\n",
    "    \n",
    "    # Set count\n",
    "    count = count + 1\n",
    "    \n",
    "print('Convergence reached. Iterations: ', count-1)"
   ]
  },
  {
   "cell_type": "code",
   "execution_count": 23,
   "id": "b42d5828",
   "metadata": {},
   "outputs": [],
   "source": [
    "# Write data to dictionary\n",
    "d = {'altitude_m' : altitudes_z,\n",
    "     'modeled_density' : np.sqrt(np.dot(matrix_A,\n",
    "                                           new_num_flux)/alphas),\n",
    "     'measured_density' : pfisr_density_interp(altitudes_z),\n",
    "     'energy_bins' : energies_K,\n",
    "     'modeled_flux' : new_num_flux,\n",
    "     'reduced_chi2' : reduced_chi_square,\n",
    "     'units' : 'Values given in meters, seconds, electron-volts.'\n",
    "    }\n",
    "\n",
    "inversion_results[run_time] = d"
   ]
  },
  {
   "cell_type": "code",
   "execution_count": 39,
   "id": "c9bc4ae3",
   "metadata": {},
   "outputs": [
    {
     "data": {
      "image/png": "[encoded data removed]",
      "text/plain": [
       "<Figure size 432x288 with 1 Axes>"
      ]
     },
     "metadata": {
      "needs_background": "light"
     },
     "output_type": "display_data"
    }
   ],
   "source": [
    "# For vizualization purposes convert back to electron density\n",
    "#...this is easy since we assumed q = alpha * n^2\n",
    "pfisr_density_plot = pfisr_density_interp(altitudes_z)[good_alt_index:]\n",
    "initial_guess_plot = np.sqrt(np.dot(matrix_A,\n",
    "                                    initial_num_flux)\n",
    "                             /alphas)[good_alt_index:]\n",
    "final_guess_plot = np.sqrt(np.dot(matrix_A,\n",
    "                                  new_num_flux)\n",
    "                           /alphas)[good_alt_index:]\n",
    "\n",
    "# Plot figure of initial guess, real data and fit\n",
    "fig, ax = plt.subplots()\n",
    "\n",
    "# Titles and axis labels\n",
    "ax.set_title(str(utc_time[slice_n]) + r' $\\chi^2=$',\n",
    "             fontsize=14, fontweight='bold')\n",
    "\n",
    "ax.set_ylabel('Altitude [km]', fontsize=14)\n",
    "ax.set_xlabel(r'Electron Density [m$^{-3}$]', fontsize=14)\n",
    "\n",
    "# Axis\n",
    "ax.tick_params(axis='x', which='major', labelsize=14)\n",
    "ax.tick_params(axis='y', which='major', labelsize=14)\n",
    "\n",
    "ax.set_xscale('log')\n",
    "\n",
    "# Plot PFISR data\n",
    "ax.plot(pfisr_density_plot, altitudes_z[good_alt_index:]/1000,\n",
    "        color='k', linewidth=2, label = 'PFISR')\n",
    "\n",
    "# Plot initial guess\n",
    "ax.plot(initial_guess_plot, altitudes_z[good_alt_index:]/1000,\n",
    "        color='C2', linewidth=2, label = 'Initial Guess')\n",
    "\n",
    "# Plot final guess\n",
    "ax.plot(final_guess_plot, altitudes_z[good_alt_index:]/1000,\n",
    "        color='C1', linewidth=2, label = 'Final Guess')\n",
    "\n",
    "plt.legend()\n",
    "\n",
    "plt.tight_layout()\n",
    "\n",
    "#plt.savefig('semeter-inversion-test-q-2.jpg', dpi=150)"
   ]
  },
  {
   "cell_type": "code",
   "execution_count": 20,
   "id": "42b6a079",
   "metadata": {},
   "outputs": [
    {
     "data": {
      "image/png": "[encoded data removed]",
      "text/plain": [
       "<Figure size 432x288 with 1 Axes>"
      ]
     },
     "metadata": {
      "needs_background": "light"
     },
     "output_type": "display_data"
    }
   ],
   "source": [
    "# Plot figure of initial guess, real data and fit\n",
    "fig, ax = plt.subplots()\n",
    "\n",
    "# Titles and axis labels\n",
    "ax.set_title(str(utc_time[n]),\n",
    "             fontsize=14, fontweight='bold')\n",
    "\n",
    "ax.set_ylabel(r'Number Flux [m$^{-2}$ s$^{-1}$]', fontsize=14)\n",
    "ax.set_xlabel('Energy [eV]', fontsize=14)\n",
    "\n",
    "# Axis\n",
    "ax.tick_params(axis='x', which='major', labelsize=14)\n",
    "ax.tick_params(axis='y', which='major', labelsize=14)\n",
    "\n",
    "ax.set_xscale('log')\n",
    "ax.set_yscale('log')\n",
    "\n",
    "# Plot the energy\n",
    "ax.plot(energies_K, new_num_flux)\n",
    "\n",
    "plt.tight_layout()\n",
    "\n",
    "#plt.savefig('semeter-inversion-test-numflux-2.jpg', dpi=150)"
   ]
  },
  {
   "cell_type": "code",
   "execution_count": 35,
   "id": "ac5ae6e8",
   "metadata": {},
   "outputs": [
    {
     "name": "stdout",
     "output_type": "stream",
     "text": [
      "Slice: 150. Unable to converge. Max iterations reached with chi2 = 1.49\n"
     ]
    }
   ],
   "source": [
    "print('Slice: {slice_n}. '\n",
    "      'Unable to converge. '\n",
    "      'Max iterations reached with chi2 = {chi2}'\n",
    "      .format(slice_n=slice_n,\n",
    "              chi2=round(reduced_chi_square, 2)))"
   ]
  },
  {
   "cell_type": "code",
   "execution_count": null,
   "id": "80049893",
   "metadata": {},
   "outputs": [],
   "source": []
  }
 ],
 "metadata": {
  "kernelspec": {
   "display_name": "Python 3 (ipykernel)",
   "language": "python",
   "name": "python3"
  },
  "language_info": {
   "codemirror_mode": {
    "name": "ipython",
    "version": 3
   },
   "file_extension": ".py",
   "mimetype": "text/x-python",
   "name": "python",
   "nbconvert_exporter": "python",
   "pygments_lexer": "ipython3",
   "version": "3.9.7"
  }
 },
 "nbformat": 4,
 "nbformat_minor": 5
}
